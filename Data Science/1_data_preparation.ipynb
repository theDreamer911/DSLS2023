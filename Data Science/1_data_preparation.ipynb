{
 "cells": [
  {
   "cell_type": "code",
   "execution_count": 12,
   "metadata": {},
   "outputs": [],
   "source": [
    "import numpy as np\n",
    "import pandas as pd\n",
    "from matplotlib import pyplot as plt\n",
    "import seaborn as sns\n",
    "pd.options.plotting.backend = \"plotly\"\n",
    "import datetime\n",
    "import missingno as msno"
   ]
  },
  {
   "cell_type": "code",
   "execution_count": 6,
   "metadata": {},
   "outputs": [],
   "source": [
    "# dataset path\n",
    "alerts_path = r'Data\\\\aggregate_alerts_Kota Depok.csv'\n",
    "median_irregularities_path = r'Data\\\\aggregate_median_irregularities_Kota Depok.csv'\n",
    "median_jams_path = r'Data\\\\aggregate_median_jams_Kota Depok.csv'"
   ]
  },
  {
   "attachments": {},
   "cell_type": "markdown",
   "metadata": {},
   "source": [
    "# Data understanding"
   ]
  },
  {
   "cell_type": "markdown",
   "metadata": {},
   "source": [
    "## Jams"
   ]
  },
  {
   "cell_type": "code",
   "execution_count": 7,
   "metadata": {},
   "outputs": [
    {
     "data": {
      "text/html": [
       "<div>\n",
       "<style scoped>\n",
       "    .dataframe tbody tr th:only-of-type {\n",
       "        vertical-align: middle;\n",
       "    }\n",
       "\n",
       "    .dataframe tbody tr th {\n",
       "        vertical-align: top;\n",
       "    }\n",
       "\n",
       "    .dataframe thead th {\n",
       "        text-align: right;\n",
       "    }\n",
       "</style>\n",
       "<table border=\"1\" class=\"dataframe\">\n",
       "  <thead>\n",
       "    <tr style=\"text-align: right;\">\n",
       "      <th></th>\n",
       "      <th>time</th>\n",
       "      <th>kemendagri_kabupaten_kode</th>\n",
       "      <th>kemendagri_kabupaten_nama</th>\n",
       "      <th>street</th>\n",
       "      <th>level</th>\n",
       "      <th>median_length</th>\n",
       "      <th>median_delay</th>\n",
       "      <th>median_speed_kmh</th>\n",
       "      <th>total_records</th>\n",
       "      <th>id</th>\n",
       "      <th>date</th>\n",
       "      <th>median_level</th>\n",
       "      <th>geometry</th>\n",
       "    </tr>\n",
       "  </thead>\n",
       "  <tbody>\n",
       "    <tr>\n",
       "      <th>0</th>\n",
       "      <td>2022-07-06 00:00:00.000</td>\n",
       "      <td>32.76</td>\n",
       "      <td>KOTA DEPOK</td>\n",
       "      <td>Tole Iskandar</td>\n",
       "      <td>2</td>\n",
       "      <td>867.0</td>\n",
       "      <td>127.0</td>\n",
       "      <td>14.00</td>\n",
       "      <td>1</td>\n",
       "      <td>33482698</td>\n",
       "      <td>2022-07-06</td>\n",
       "      <td>2.0</td>\n",
       "      <td>LINESTRING (106.837496 -6.403788, 106.837451 -...</td>\n",
       "    </tr>\n",
       "    <tr>\n",
       "      <th>1</th>\n",
       "      <td>2022-07-06 00:00:00.000</td>\n",
       "      <td>32.76</td>\n",
       "      <td>KOTA DEPOK</td>\n",
       "      <td>Bukit Cinere</td>\n",
       "      <td>3</td>\n",
       "      <td>421.0</td>\n",
       "      <td>92.0</td>\n",
       "      <td>10.26</td>\n",
       "      <td>1</td>\n",
       "      <td>33482683</td>\n",
       "      <td>2022-07-06</td>\n",
       "      <td>3.0</td>\n",
       "      <td>LINESTRING (106.793532 -6.339868, 106.79333 -6...</td>\n",
       "    </tr>\n",
       "    <tr>\n",
       "      <th>2</th>\n",
       "      <td>2022-07-06 00:00:00.000</td>\n",
       "      <td>32.76</td>\n",
       "      <td>KOTA DEPOK</td>\n",
       "      <td>Tole Iskandar</td>\n",
       "      <td>3</td>\n",
       "      <td>1236.0</td>\n",
       "      <td>186.0</td>\n",
       "      <td>13.66</td>\n",
       "      <td>11</td>\n",
       "      <td>33482699</td>\n",
       "      <td>2022-07-06</td>\n",
       "      <td>3.0</td>\n",
       "      <td>MULTILINESTRING ((106.840781 -6.404241, 106.84...</td>\n",
       "    </tr>\n",
       "  </tbody>\n",
       "</table>\n",
       "</div>"
      ],
      "text/plain": [
       "                      time  kemendagri_kabupaten_kode  \\\n",
       "0  2022-07-06 00:00:00.000                      32.76   \n",
       "1  2022-07-06 00:00:00.000                      32.76   \n",
       "2  2022-07-06 00:00:00.000                      32.76   \n",
       "\n",
       "  kemendagri_kabupaten_nama         street  level  median_length  \\\n",
       "0                KOTA DEPOK  Tole Iskandar      2          867.0   \n",
       "1                KOTA DEPOK   Bukit Cinere      3          421.0   \n",
       "2                KOTA DEPOK  Tole Iskandar      3         1236.0   \n",
       "\n",
       "   median_delay  median_speed_kmh  total_records        id        date  \\\n",
       "0         127.0             14.00              1  33482698  2022-07-06   \n",
       "1          92.0             10.26              1  33482683  2022-07-06   \n",
       "2         186.0             13.66             11  33482699  2022-07-06   \n",
       "\n",
       "   median_level                                           geometry  \n",
       "0           2.0  LINESTRING (106.837496 -6.403788, 106.837451 -...  \n",
       "1           3.0  LINESTRING (106.793532 -6.339868, 106.79333 -6...  \n",
       "2           3.0  MULTILINESTRING ((106.840781 -6.404241, 106.84...  "
      ]
     },
     "execution_count": 7,
     "metadata": {},
     "output_type": "execute_result"
    }
   ],
   "source": [
    "df_jams = pd.read_csv(median_jams_path)\n",
    "df_jams = df_jams.drop(['Unnamed: 0'], axis=1)\n",
    "df_jams.head(3)"
   ]
  },
  {
   "cell_type": "code",
   "execution_count": 8,
   "metadata": {},
   "outputs": [
    {
     "data": {
      "application/vnd.plotly.v1+json": {
       "config": {
        "plotlyServerURL": "https://plot.ly"
       },
       "data": [
        {
         "alignmentgroup": "True",
         "hovertemplate": "variable=0<br>index=%{x}<br>value=%{y}<extra></extra>",
         "legendgroup": "0",
         "marker": {
          "color": "#636efa",
          "pattern": {
           "shape": ""
          }
         },
         "name": "0",
         "offsetgroup": "0",
         "orientation": "v",
         "showlegend": true,
         "textposition": "auto",
         "type": "bar",
         "x": [
          "time",
          "kemendagri_kabupaten_kode",
          "kemendagri_kabupaten_nama",
          "street",
          "level",
          "median_length",
          "median_delay",
          "median_speed_kmh",
          "total_records",
          "id",
          "date",
          "median_level",
          "geometry"
         ],
         "xaxis": "x",
         "y": [
          0,
          0,
          0,
          2759,
          0,
          0,
          0,
          0,
          0,
          0,
          0,
          0,
          0
         ],
         "yaxis": "y"
        }
       ],
       "layout": {
        "barmode": "relative",
        "legend": {
         "title": {
          "text": "variable"
         },
         "tracegroupgap": 0
        },
        "margin": {
         "t": 60
        },
        "template": {
         "data": {
          "bar": [
           {
            "error_x": {
             "color": "#2a3f5f"
            },
            "error_y": {
             "color": "#2a3f5f"
            },
            "marker": {
             "line": {
              "color": "#E5ECF6",
              "width": 0.5
             },
             "pattern": {
              "fillmode": "overlay",
              "size": 10,
              "solidity": 0.2
             }
            },
            "type": "bar"
           }
          ],
          "barpolar": [
           {
            "marker": {
             "line": {
              "color": "#E5ECF6",
              "width": 0.5
             },
             "pattern": {
              "fillmode": "overlay",
              "size": 10,
              "solidity": 0.2
             }
            },
            "type": "barpolar"
           }
          ],
          "carpet": [
           {
            "aaxis": {
             "endlinecolor": "#2a3f5f",
             "gridcolor": "white",
             "linecolor": "white",
             "minorgridcolor": "white",
             "startlinecolor": "#2a3f5f"
            },
            "baxis": {
             "endlinecolor": "#2a3f5f",
             "gridcolor": "white",
             "linecolor": "white",
             "minorgridcolor": "white",
             "startlinecolor": "#2a3f5f"
            },
            "type": "carpet"
           }
          ],
          "choropleth": [
           {
            "colorbar": {
             "outlinewidth": 0,
             "ticks": ""
            },
            "type": "choropleth"
           }
          ],
          "contour": [
           {
            "colorbar": {
             "outlinewidth": 0,
             "ticks": ""
            },
            "colorscale": [
             [
              0,
              "#0d0887"
             ],
             [
              0.1111111111111111,
              "#46039f"
             ],
             [
              0.2222222222222222,
              "#7201a8"
             ],
             [
              0.3333333333333333,
              "#9c179e"
             ],
             [
              0.4444444444444444,
              "#bd3786"
             ],
             [
              0.5555555555555556,
              "#d8576b"
             ],
             [
              0.6666666666666666,
              "#ed7953"
             ],
             [
              0.7777777777777778,
              "#fb9f3a"
             ],
             [
              0.8888888888888888,
              "#fdca26"
             ],
             [
              1,
              "#f0f921"
             ]
            ],
            "type": "contour"
           }
          ],
          "contourcarpet": [
           {
            "colorbar": {
             "outlinewidth": 0,
             "ticks": ""
            },
            "type": "contourcarpet"
           }
          ],
          "heatmap": [
           {
            "colorbar": {
             "outlinewidth": 0,
             "ticks": ""
            },
            "colorscale": [
             [
              0,
              "#0d0887"
             ],
             [
              0.1111111111111111,
              "#46039f"
             ],
             [
              0.2222222222222222,
              "#7201a8"
             ],
             [
              0.3333333333333333,
              "#9c179e"
             ],
             [
              0.4444444444444444,
              "#bd3786"
             ],
             [
              0.5555555555555556,
              "#d8576b"
             ],
             [
              0.6666666666666666,
              "#ed7953"
             ],
             [
              0.7777777777777778,
              "#fb9f3a"
             ],
             [
              0.8888888888888888,
              "#fdca26"
             ],
             [
              1,
              "#f0f921"
             ]
            ],
            "type": "heatmap"
           }
          ],
          "heatmapgl": [
           {
            "colorbar": {
             "outlinewidth": 0,
             "ticks": ""
            },
            "colorscale": [
             [
              0,
              "#0d0887"
             ],
             [
              0.1111111111111111,
              "#46039f"
             ],
             [
              0.2222222222222222,
              "#7201a8"
             ],
             [
              0.3333333333333333,
              "#9c179e"
             ],
             [
              0.4444444444444444,
              "#bd3786"
             ],
             [
              0.5555555555555556,
              "#d8576b"
             ],
             [
              0.6666666666666666,
              "#ed7953"
             ],
             [
              0.7777777777777778,
              "#fb9f3a"
             ],
             [
              0.8888888888888888,
              "#fdca26"
             ],
             [
              1,
              "#f0f921"
             ]
            ],
            "type": "heatmapgl"
           }
          ],
          "histogram": [
           {
            "marker": {
             "pattern": {
              "fillmode": "overlay",
              "size": 10,
              "solidity": 0.2
             }
            },
            "type": "histogram"
           }
          ],
          "histogram2d": [
           {
            "colorbar": {
             "outlinewidth": 0,
             "ticks": ""
            },
            "colorscale": [
             [
              0,
              "#0d0887"
             ],
             [
              0.1111111111111111,
              "#46039f"
             ],
             [
              0.2222222222222222,
              "#7201a8"
             ],
             [
              0.3333333333333333,
              "#9c179e"
             ],
             [
              0.4444444444444444,
              "#bd3786"
             ],
             [
              0.5555555555555556,
              "#d8576b"
             ],
             [
              0.6666666666666666,
              "#ed7953"
             ],
             [
              0.7777777777777778,
              "#fb9f3a"
             ],
             [
              0.8888888888888888,
              "#fdca26"
             ],
             [
              1,
              "#f0f921"
             ]
            ],
            "type": "histogram2d"
           }
          ],
          "histogram2dcontour": [
           {
            "colorbar": {
             "outlinewidth": 0,
             "ticks": ""
            },
            "colorscale": [
             [
              0,
              "#0d0887"
             ],
             [
              0.1111111111111111,
              "#46039f"
             ],
             [
              0.2222222222222222,
              "#7201a8"
             ],
             [
              0.3333333333333333,
              "#9c179e"
             ],
             [
              0.4444444444444444,
              "#bd3786"
             ],
             [
              0.5555555555555556,
              "#d8576b"
             ],
             [
              0.6666666666666666,
              "#ed7953"
             ],
             [
              0.7777777777777778,
              "#fb9f3a"
             ],
             [
              0.8888888888888888,
              "#fdca26"
             ],
             [
              1,
              "#f0f921"
             ]
            ],
            "type": "histogram2dcontour"
           }
          ],
          "mesh3d": [
           {
            "colorbar": {
             "outlinewidth": 0,
             "ticks": ""
            },
            "type": "mesh3d"
           }
          ],
          "parcoords": [
           {
            "line": {
             "colorbar": {
              "outlinewidth": 0,
              "ticks": ""
             }
            },
            "type": "parcoords"
           }
          ],
          "pie": [
           {
            "automargin": true,
            "type": "pie"
           }
          ],
          "scatter": [
           {
            "fillpattern": {
             "fillmode": "overlay",
             "size": 10,
             "solidity": 0.2
            },
            "type": "scatter"
           }
          ],
          "scatter3d": [
           {
            "line": {
             "colorbar": {
              "outlinewidth": 0,
              "ticks": ""
             }
            },
            "marker": {
             "colorbar": {
              "outlinewidth": 0,
              "ticks": ""
             }
            },
            "type": "scatter3d"
           }
          ],
          "scattercarpet": [
           {
            "marker": {
             "colorbar": {
              "outlinewidth": 0,
              "ticks": ""
             }
            },
            "type": "scattercarpet"
           }
          ],
          "scattergeo": [
           {
            "marker": {
             "colorbar": {
              "outlinewidth": 0,
              "ticks": ""
             }
            },
            "type": "scattergeo"
           }
          ],
          "scattergl": [
           {
            "marker": {
             "colorbar": {
              "outlinewidth": 0,
              "ticks": ""
             }
            },
            "type": "scattergl"
           }
          ],
          "scattermapbox": [
           {
            "marker": {
             "colorbar": {
              "outlinewidth": 0,
              "ticks": ""
             }
            },
            "type": "scattermapbox"
           }
          ],
          "scatterpolar": [
           {
            "marker": {
             "colorbar": {
              "outlinewidth": 0,
              "ticks": ""
             }
            },
            "type": "scatterpolar"
           }
          ],
          "scatterpolargl": [
           {
            "marker": {
             "colorbar": {
              "outlinewidth": 0,
              "ticks": ""
             }
            },
            "type": "scatterpolargl"
           }
          ],
          "scatterternary": [
           {
            "marker": {
             "colorbar": {
              "outlinewidth": 0,
              "ticks": ""
             }
            },
            "type": "scatterternary"
           }
          ],
          "surface": [
           {
            "colorbar": {
             "outlinewidth": 0,
             "ticks": ""
            },
            "colorscale": [
             [
              0,
              "#0d0887"
             ],
             [
              0.1111111111111111,
              "#46039f"
             ],
             [
              0.2222222222222222,
              "#7201a8"
             ],
             [
              0.3333333333333333,
              "#9c179e"
             ],
             [
              0.4444444444444444,
              "#bd3786"
             ],
             [
              0.5555555555555556,
              "#d8576b"
             ],
             [
              0.6666666666666666,
              "#ed7953"
             ],
             [
              0.7777777777777778,
              "#fb9f3a"
             ],
             [
              0.8888888888888888,
              "#fdca26"
             ],
             [
              1,
              "#f0f921"
             ]
            ],
            "type": "surface"
           }
          ],
          "table": [
           {
            "cells": {
             "fill": {
              "color": "#EBF0F8"
             },
             "line": {
              "color": "white"
             }
            },
            "header": {
             "fill": {
              "color": "#C8D4E3"
             },
             "line": {
              "color": "white"
             }
            },
            "type": "table"
           }
          ]
         },
         "layout": {
          "annotationdefaults": {
           "arrowcolor": "#2a3f5f",
           "arrowhead": 0,
           "arrowwidth": 1
          },
          "autotypenumbers": "strict",
          "coloraxis": {
           "colorbar": {
            "outlinewidth": 0,
            "ticks": ""
           }
          },
          "colorscale": {
           "diverging": [
            [
             0,
             "#8e0152"
            ],
            [
             0.1,
             "#c51b7d"
            ],
            [
             0.2,
             "#de77ae"
            ],
            [
             0.3,
             "#f1b6da"
            ],
            [
             0.4,
             "#fde0ef"
            ],
            [
             0.5,
             "#f7f7f7"
            ],
            [
             0.6,
             "#e6f5d0"
            ],
            [
             0.7,
             "#b8e186"
            ],
            [
             0.8,
             "#7fbc41"
            ],
            [
             0.9,
             "#4d9221"
            ],
            [
             1,
             "#276419"
            ]
           ],
           "sequential": [
            [
             0,
             "#0d0887"
            ],
            [
             0.1111111111111111,
             "#46039f"
            ],
            [
             0.2222222222222222,
             "#7201a8"
            ],
            [
             0.3333333333333333,
             "#9c179e"
            ],
            [
             0.4444444444444444,
             "#bd3786"
            ],
            [
             0.5555555555555556,
             "#d8576b"
            ],
            [
             0.6666666666666666,
             "#ed7953"
            ],
            [
             0.7777777777777778,
             "#fb9f3a"
            ],
            [
             0.8888888888888888,
             "#fdca26"
            ],
            [
             1,
             "#f0f921"
            ]
           ],
           "sequentialminus": [
            [
             0,
             "#0d0887"
            ],
            [
             0.1111111111111111,
             "#46039f"
            ],
            [
             0.2222222222222222,
             "#7201a8"
            ],
            [
             0.3333333333333333,
             "#9c179e"
            ],
            [
             0.4444444444444444,
             "#bd3786"
            ],
            [
             0.5555555555555556,
             "#d8576b"
            ],
            [
             0.6666666666666666,
             "#ed7953"
            ],
            [
             0.7777777777777778,
             "#fb9f3a"
            ],
            [
             0.8888888888888888,
             "#fdca26"
            ],
            [
             1,
             "#f0f921"
            ]
           ]
          },
          "colorway": [
           "#636efa",
           "#EF553B",
           "#00cc96",
           "#ab63fa",
           "#FFA15A",
           "#19d3f3",
           "#FF6692",
           "#B6E880",
           "#FF97FF",
           "#FECB52"
          ],
          "font": {
           "color": "#2a3f5f"
          },
          "geo": {
           "bgcolor": "white",
           "lakecolor": "white",
           "landcolor": "#E5ECF6",
           "showlakes": true,
           "showland": true,
           "subunitcolor": "white"
          },
          "hoverlabel": {
           "align": "left"
          },
          "hovermode": "closest",
          "mapbox": {
           "style": "light"
          },
          "paper_bgcolor": "white",
          "plot_bgcolor": "#E5ECF6",
          "polar": {
           "angularaxis": {
            "gridcolor": "white",
            "linecolor": "white",
            "ticks": ""
           },
           "bgcolor": "#E5ECF6",
           "radialaxis": {
            "gridcolor": "white",
            "linecolor": "white",
            "ticks": ""
           }
          },
          "scene": {
           "xaxis": {
            "backgroundcolor": "#E5ECF6",
            "gridcolor": "white",
            "gridwidth": 2,
            "linecolor": "white",
            "showbackground": true,
            "ticks": "",
            "zerolinecolor": "white"
           },
           "yaxis": {
            "backgroundcolor": "#E5ECF6",
            "gridcolor": "white",
            "gridwidth": 2,
            "linecolor": "white",
            "showbackground": true,
            "ticks": "",
            "zerolinecolor": "white"
           },
           "zaxis": {
            "backgroundcolor": "#E5ECF6",
            "gridcolor": "white",
            "gridwidth": 2,
            "linecolor": "white",
            "showbackground": true,
            "ticks": "",
            "zerolinecolor": "white"
           }
          },
          "shapedefaults": {
           "line": {
            "color": "#2a3f5f"
           }
          },
          "ternary": {
           "aaxis": {
            "gridcolor": "white",
            "linecolor": "white",
            "ticks": ""
           },
           "baxis": {
            "gridcolor": "white",
            "linecolor": "white",
            "ticks": ""
           },
           "bgcolor": "#E5ECF6",
           "caxis": {
            "gridcolor": "white",
            "linecolor": "white",
            "ticks": ""
           }
          },
          "title": {
           "x": 0.05
          },
          "xaxis": {
           "automargin": true,
           "gridcolor": "white",
           "linecolor": "white",
           "ticks": "",
           "title": {
            "standoff": 15
           },
           "zerolinecolor": "white",
           "zerolinewidth": 2
          },
          "yaxis": {
           "automargin": true,
           "gridcolor": "white",
           "linecolor": "white",
           "ticks": "",
           "title": {
            "standoff": 15
           },
           "zerolinecolor": "white",
           "zerolinewidth": 2
          }
         }
        },
        "xaxis": {
         "anchor": "y",
         "domain": [
          0,
          1
         ],
         "title": {
          "text": "index"
         }
        },
        "yaxis": {
         "anchor": "x",
         "domain": [
          0,
          1
         ],
         "title": {
          "text": "value"
         }
        }
       }
      }
     },
     "metadata": {},
     "output_type": "display_data"
    }
   ],
   "source": [
    "# analisis null value\n",
    "df_jams.isna().sum().plot(kind='bar')"
   ]
  },
  {
   "cell_type": "code",
   "execution_count": 53,
   "metadata": {},
   "outputs": [
    {
     "data": {
      "text/html": [
       "<div>\n",
       "<style scoped>\n",
       "    .dataframe tbody tr th:only-of-type {\n",
       "        vertical-align: middle;\n",
       "    }\n",
       "\n",
       "    .dataframe tbody tr th {\n",
       "        vertical-align: top;\n",
       "    }\n",
       "\n",
       "    .dataframe thead th {\n",
       "        text-align: right;\n",
       "    }\n",
       "</style>\n",
       "<table border=\"1\" class=\"dataframe\">\n",
       "  <thead>\n",
       "    <tr style=\"text-align: right;\">\n",
       "      <th></th>\n",
       "      <th>kemendagri_kabupaten_kode</th>\n",
       "      <th>level</th>\n",
       "      <th>median_length</th>\n",
       "      <th>median_delay</th>\n",
       "      <th>median_speed_kmh</th>\n",
       "      <th>total_records</th>\n",
       "      <th>id</th>\n",
       "      <th>median_level</th>\n",
       "    </tr>\n",
       "  </thead>\n",
       "  <tbody>\n",
       "    <tr>\n",
       "      <th>count</th>\n",
       "      <td>157218.00</td>\n",
       "      <td>157218.000000</td>\n",
       "      <td>157218.000000</td>\n",
       "      <td>157218.000000</td>\n",
       "      <td>157218.000000</td>\n",
       "      <td>157218.000000</td>\n",
       "      <td>1.572180e+05</td>\n",
       "      <td>157218.000000</td>\n",
       "    </tr>\n",
       "    <tr>\n",
       "      <th>mean</th>\n",
       "      <td>32.76</td>\n",
       "      <td>2.420181</td>\n",
       "      <td>777.908121</td>\n",
       "      <td>137.606693</td>\n",
       "      <td>12.808924</td>\n",
       "      <td>18.917796</td>\n",
       "      <td>3.542952e+07</td>\n",
       "      <td>2.420181</td>\n",
       "    </tr>\n",
       "    <tr>\n",
       "      <th>std</th>\n",
       "      <td>0.00</td>\n",
       "      <td>1.013765</td>\n",
       "      <td>582.178984</td>\n",
       "      <td>128.711199</td>\n",
       "      <td>7.397666</td>\n",
       "      <td>28.902927</td>\n",
       "      <td>1.105491e+06</td>\n",
       "      <td>1.013765</td>\n",
       "    </tr>\n",
       "    <tr>\n",
       "      <th>min</th>\n",
       "      <td>32.76</td>\n",
       "      <td>1.000000</td>\n",
       "      <td>25.000000</td>\n",
       "      <td>-1.000000</td>\n",
       "      <td>0.000000</td>\n",
       "      <td>1.000000</td>\n",
       "      <td>3.348268e+07</td>\n",
       "      <td>1.000000</td>\n",
       "    </tr>\n",
       "    <tr>\n",
       "      <th>25%</th>\n",
       "      <td>32.76</td>\n",
       "      <td>2.000000</td>\n",
       "      <td>397.000000</td>\n",
       "      <td>74.000000</td>\n",
       "      <td>7.040000</td>\n",
       "      <td>4.000000</td>\n",
       "      <td>3.445209e+07</td>\n",
       "      <td>2.000000</td>\n",
       "    </tr>\n",
       "    <tr>\n",
       "      <th>50%</th>\n",
       "      <td>32.76</td>\n",
       "      <td>2.000000</td>\n",
       "      <td>647.000000</td>\n",
       "      <td>96.000000</td>\n",
       "      <td>11.930000</td>\n",
       "      <td>10.000000</td>\n",
       "      <td>3.540958e+07</td>\n",
       "      <td>2.000000</td>\n",
       "    </tr>\n",
       "    <tr>\n",
       "      <th>75%</th>\n",
       "      <td>32.76</td>\n",
       "      <td>3.000000</td>\n",
       "      <td>1030.000000</td>\n",
       "      <td>145.000000</td>\n",
       "      <td>17.035000</td>\n",
       "      <td>22.000000</td>\n",
       "      <td>3.638440e+07</td>\n",
       "      <td>3.000000</td>\n",
       "    </tr>\n",
       "    <tr>\n",
       "      <th>max</th>\n",
       "      <td>32.76</td>\n",
       "      <td>5.000000</td>\n",
       "      <td>17782.000000</td>\n",
       "      <td>3901.000000</td>\n",
       "      <td>67.480000</td>\n",
       "      <td>244.000000</td>\n",
       "      <td>3.729072e+07</td>\n",
       "      <td>5.000000</td>\n",
       "    </tr>\n",
       "  </tbody>\n",
       "</table>\n",
       "</div>"
      ],
      "text/plain": [
       "       kemendagri_kabupaten_kode          level  median_length   median_delay  \\\n",
       "count                  157218.00  157218.000000  157218.000000  157218.000000   \n",
       "mean                       32.76       2.420181     777.908121     137.606693   \n",
       "std                         0.00       1.013765     582.178984     128.711199   \n",
       "min                        32.76       1.000000      25.000000      -1.000000   \n",
       "25%                        32.76       2.000000     397.000000      74.000000   \n",
       "50%                        32.76       2.000000     647.000000      96.000000   \n",
       "75%                        32.76       3.000000    1030.000000     145.000000   \n",
       "max                        32.76       5.000000   17782.000000    3901.000000   \n",
       "\n",
       "       median_speed_kmh  total_records            id   median_level  \n",
       "count     157218.000000  157218.000000  1.572180e+05  157218.000000  \n",
       "mean          12.808924      18.917796  3.542952e+07       2.420181  \n",
       "std            7.397666      28.902927  1.105491e+06       1.013765  \n",
       "min            0.000000       1.000000  3.348268e+07       1.000000  \n",
       "25%            7.040000       4.000000  3.445209e+07       2.000000  \n",
       "50%           11.930000      10.000000  3.540958e+07       2.000000  \n",
       "75%           17.035000      22.000000  3.638440e+07       3.000000  \n",
       "max           67.480000     244.000000  3.729072e+07       5.000000  "
      ]
     },
     "execution_count": 53,
     "metadata": {},
     "output_type": "execute_result"
    }
   ],
   "source": [
    "# analisis statistik\n",
    "df_jams.describe()"
   ]
  },
  {
   "cell_type": "code",
   "execution_count": 54,
   "metadata": {},
   "outputs": [
    {
     "name": "stdout",
     "output_type": "stream",
     "text": [
      "<class 'pandas.core.frame.DataFrame'>\n",
      "RangeIndex: 157218 entries, 0 to 157217\n",
      "Data columns (total 13 columns):\n",
      " #   Column                     Non-Null Count   Dtype  \n",
      "---  ------                     --------------   -----  \n",
      " 0   time                       157218 non-null  object \n",
      " 1   kemendagri_kabupaten_kode  157218 non-null  float64\n",
      " 2   kemendagri_kabupaten_nama  157218 non-null  object \n",
      " 3   street                     154459 non-null  object \n",
      " 4   level                      157218 non-null  int64  \n",
      " 5   median_length              157218 non-null  float64\n",
      " 6   median_delay               157218 non-null  float64\n",
      " 7   median_speed_kmh           157218 non-null  float64\n",
      " 8   total_records              157218 non-null  int64  \n",
      " 9   id                         157218 non-null  int64  \n",
      " 10  date                       157218 non-null  object \n",
      " 11  median_level               157218 non-null  float64\n",
      " 12  geometry                   157218 non-null  object \n",
      "dtypes: float64(5), int64(3), object(5)\n",
      "memory usage: 15.6+ MB\n",
      "None\n"
     ]
    },
    {
     "data": {
      "text/plain": [
       "array([2., 3., 1., 5., 4.])"
      ]
     },
     "execution_count": 54,
     "metadata": {},
     "output_type": "execute_result"
    }
   ],
   "source": [
    "# analisis kolom\n",
    "print(df_jams.info())\n",
    "df_jams['median_level'].unique()"
   ]
  },
  {
   "cell_type": "code",
   "execution_count": 13,
   "metadata": {},
   "outputs": [
    {
     "data": {
      "text/html": [
       "<div>\n",
       "<style scoped>\n",
       "    .dataframe tbody tr th:only-of-type {\n",
       "        vertical-align: middle;\n",
       "    }\n",
       "\n",
       "    .dataframe tbody tr th {\n",
       "        vertical-align: top;\n",
       "    }\n",
       "\n",
       "    .dataframe thead th {\n",
       "        text-align: right;\n",
       "    }\n",
       "</style>\n",
       "<table border=\"1\" class=\"dataframe\">\n",
       "  <thead>\n",
       "    <tr style=\"text-align: right;\">\n",
       "      <th></th>\n",
       "      <th>street_name</th>\n",
       "      <th>total</th>\n",
       "    </tr>\n",
       "  </thead>\n",
       "  <tbody>\n",
       "    <tr>\n",
       "      <th>0</th>\n",
       "      <td>N8 Jalan Raya Bogor</td>\n",
       "      <td>3683</td>\n",
       "    </tr>\n",
       "    <tr>\n",
       "      <th>0</th>\n",
       "      <td>Margonda Raya</td>\n",
       "      <td>3632</td>\n",
       "    </tr>\n",
       "    <tr>\n",
       "      <th>0</th>\n",
       "      <td>Sawangan Raya</td>\n",
       "      <td>3537</td>\n",
       "    </tr>\n",
       "    <tr>\n",
       "      <th>0</th>\n",
       "      <td>Jalan Raya Bogor</td>\n",
       "      <td>3482</td>\n",
       "    </tr>\n",
       "    <tr>\n",
       "      <th>0</th>\n",
       "      <td>Tole Iskandar</td>\n",
       "      <td>3136</td>\n",
       "    </tr>\n",
       "  </tbody>\n",
       "</table>\n",
       "</div>"
      ],
      "text/plain": [
       "           street_name total\n",
       "0  N8 Jalan Raya Bogor  3683\n",
       "0        Margonda Raya  3632\n",
       "0        Sawangan Raya  3537\n",
       "0     Jalan Raya Bogor  3482\n",
       "0        Tole Iskandar  3136"
      ]
     },
     "execution_count": 13,
     "metadata": {},
     "output_type": "execute_result"
    }
   ],
   "source": [
    "# sampling jalan dengan data terbanyak (3 sample jalan)\n",
    "df_jams_clean = df_jams[df_jams['street'].notna()]\n",
    "street_list = pd.DataFrame(columns=['street_name', 'total'])\n",
    "\n",
    "for street in (df_jams_clean['street'].unique()):\n",
    "  street_list = pd.concat([street_list, pd.DataFrame.from_records([{'street_name':street, 'total': len(df_jams_clean.loc[(df_jams['street'] == street)])}])])\n",
    "\n",
    "street_list.sort_values(by='total', ascending=False).head(5)"
   ]
  },
  {
   "cell_type": "code",
   "execution_count": 19,
   "metadata": {},
   "outputs": [
    {
     "name": "stdout",
     "output_type": "stream",
     "text": [
      "0 N8 Jalan Raya Bogor\n",
      "1 Margonda Raya\n",
      "2 Sawangan Raya\n"
     ]
    }
   ],
   "source": [
    "for i, street in enumerate(['N8 Jalan Raya Bogor', 'Margonda Raya', 'Sawangan Raya']):\n",
    "  print(i, street)\n",
    "  df_jams_sample = df_jams.loc[(df_jams['street'] == street)]\n",
    "  df_jams_sample = df_jams_sample.drop(['kemendagri_kabupaten_kode', 'kemendagri_kabupaten_nama',\n",
    "  'street', 'level', 'total_records', 'id', 'date', 'geometry'], axis=1)\n",
    "  df_jams_sample['time'] = pd.to_datetime(df_jams_sample['time'])\n",
    "  df_jams_agg = df_jams_sample.groupby(pd.Grouper(key=\"time\", freq='1H')).agg({\n",
    "    'median_length':np.median,\n",
    "    'median_delay':np.mean,\n",
    "    'median_speed_kmh':np.median,\n",
    "    'median_level':np.mean})\n",
    "  df_jams_agg['median_level'] = pd.to_numeric(df_jams_agg['median_level'].round(0))\n",
    "  df_jams_agg.to_csv(r'Clean\\sample_jams_{}.csv'.format(i))"
   ]
  },
  {
   "cell_type": "code",
   "execution_count": 50,
   "metadata": {},
   "outputs": [
    {
     "name": "stdout",
     "output_type": "stream",
     "text": [
      "0 N8 Jalan Raya Bogor\n",
      "N8 Jalan Raya Bogor time\n"
     ]
    },
    {
     "data": {
      "image/png": "[encoded data removed]",
      "text/plain": [
       "<Figure size 640x480 with 1 Axes>"
      ]
     },
     "metadata": {},
     "output_type": "display_data"
    },
    {
     "name": "stdout",
     "output_type": "stream",
     "text": [
      "N8 Jalan Raya Bogor median_length\n"
     ]
    },
    {
     "data": {
      "image/png": "[encoded data removed]",
      "text/plain": [
       "<Figure size 640x480 with 1 Axes>"
      ]
     },
     "metadata": {},
     "output_type": "display_data"
    },
    {
     "name": "stdout",
     "output_type": "stream",
     "text": [
      "N8 Jalan Raya Bogor median_delay\n"
     ]
    },
    {
     "data": {
      "image/png": "[encoded data removed]",
      "text/plain": [
       "<Figure size 640x480 with 1 Axes>"
      ]
     },
     "metadata": {},
     "output_type": "display_data"
    },
    {
     "name": "stdout",
     "output_type": "stream",
     "text": [
      "N8 Jalan Raya Bogor median_speed_kmh\n"
     ]
    },
    {
     "data": {
      "image/png": "[encoded data removed]",
      "text/plain": [
       "<Figure size 640x480 with 1 Axes>"
      ]
     },
     "metadata": {},
     "output_type": "display_data"
    },
    {
     "name": "stdout",
     "output_type": "stream",
     "text": [
      "N8 Jalan Raya Bogor median_level\n"
     ]
    },
    {
     "data": {
      "image/png": "[encoded data removed]",
      "text/plain": [
       "<Figure size 640x480 with 1 Axes>"
      ]
     },
     "metadata": {},
     "output_type": "display_data"
    },
    {
     "name": "stdout",
     "output_type": "stream",
     "text": [
      "1 Margonda Raya\n",
      "Margonda Raya time\n"
     ]
    },
    {
     "data": {
      "image/png": "[encoded data removed]",
      "text/plain": [
       "<Figure size 640x480 with 1 Axes>"
      ]
     },
     "metadata": {},
     "output_type": "display_data"
    },
    {
     "name": "stdout",
     "output_type": "stream",
     "text": [
      "Margonda Raya median_length\n"
     ]
    },
    {
     "data": {
      "image/png": "[encoded data removed]",
      "text/plain": [
       "<Figure size 640x480 with 1 Axes>"
      ]
     },
     "metadata": {},
     "output_type": "display_data"
    },
    {
     "name": "stdout",
     "output_type": "stream",
     "text": [
      "Margonda Raya median_delay\n"
     ]
    },
    {
     "data": {
      "image/png": "[encoded data removed]",
      "text/plain": [
       "<Figure size 640x480 with 1 Axes>"
      ]
     },
     "metadata": {},
     "output_type": "display_data"
    },
    {
     "name": "stdout",
     "output_type": "stream",
     "text": [
      "Margonda Raya median_speed_kmh\n"
     ]
    },
    {
     "data": {
      "image/png": "[encoded data removed]",
      "text/plain": [
       "<Figure size 640x480 with 1 Axes>"
      ]
     },
     "metadata": {},
     "output_type": "display_data"
    },
    {
     "name": "stdout",
     "output_type": "stream",
     "text": [
      "Margonda Raya median_level\n"
     ]
    },
    {
     "data": {
      "image/png": "[encoded data removed]",
      "text/plain": [
       "<Figure size 640x480 with 1 Axes>"
      ]
     },
     "metadata": {},
     "output_type": "display_data"
    },
    {
     "name": "stdout",
     "output_type": "stream",
     "text": [
      "2 Sawangan Raya\n",
      "Sawangan Raya time\n"
     ]
    },
    {
     "data": {
      "image/png": "[encoded data removed]",
      "text/plain": [
       "<Figure size 640x480 with 1 Axes>"
      ]
     },
     "metadata": {},
     "output_type": "display_data"
    },
    {
     "name": "stdout",
     "output_type": "stream",
     "text": [
      "Sawangan Raya median_length\n"
     ]
    },
    {
     "data": {
      "image/png": "[encoded data removed]",
      "text/plain": [
       "<Figure size 640x480 with 1 Axes>"
      ]
     },
     "metadata": {},
     "output_type": "display_data"
    },
    {
     "name": "stdout",
     "output_type": "stream",
     "text": [
      "Sawangan Raya median_delay\n"
     ]
    },
    {
     "data": {
      "image/png": "[encoded data removed]",
      "text/plain": [
       "<Figure size 640x480 with 1 Axes>"
      ]
     },
     "metadata": {},
     "output_type": "display_data"
    },
    {
     "name": "stdout",
     "output_type": "stream",
     "text": [
      "Sawangan Raya median_speed_kmh\n"
     ]
    },
    {
     "data": {
      "image/png": "[encoded data removed]",
      "text/plain": [
       "<Figure size 640x480 with 1 Axes>"
      ]
     },
     "metadata": {},
     "output_type": "display_data"
    },
    {
     "name": "stdout",
     "output_type": "stream",
     "text": [
      "Sawangan Raya median_level\n"
     ]
    },
    {
     "data": {
      "image/png": "[encoded data removed]",
      "text/plain": [
       "<Figure size 640x480 with 1 Axes>"
      ]
     },
     "metadata": {},
     "output_type": "display_data"
    }
   ],
   "source": [
    "# visualisasi histogram\n",
    "for i, street in enumerate(['N8 Jalan Raya Bogor', 'Margonda Raya', 'Sawangan Raya']):\n",
    "  print(i, street)\n",
    "  df_jams_sample = df_jams.loc[(df_jams['street'] == street)]\n",
    "  df_jams_sample = df_jams_sample.drop(['kemendagri_kabupaten_kode', 'kemendagri_kabupaten_nama',\n",
    "  'street', 'level', 'total_records', 'id', 'date', 'geometry'], axis=1)\n",
    "  df_jams_sample['time'] = pd.to_datetime(df_jams_sample['time'])\n",
    "  for col in df_jams_sample.columns:\n",
    "    print(street, col)\n",
    "    df_jams_sample[col].hist()\n",
    "    plt.axvline(df_jams_sample[col].mean(), color='red', linestyle='dashed', linewidth=1)\n",
    "    plt.axvline(df_jams_sample[col].median(), color='black', linestyle='dashed', linewidth=1)\n",
    "    plt.show()"
   ]
  },
  {
   "cell_type": "code",
   "execution_count": 57,
   "metadata": {},
   "outputs": [
    {
     "data": {
      "text/plain": [
       "3683"
      ]
     },
     "execution_count": 57,
     "metadata": {},
     "output_type": "execute_result"
    }
   ],
   "source": [
    "len(df_jams[df_jams[\"street\"] == \"N8 Jalan Raya Bogor\"])"
   ]
  },
  {
   "cell_type": "code",
   "execution_count": 52,
   "metadata": {},
   "outputs": [
    {
     "data": {
      "text/plain": [
       "Index(['time', 'kemendagri_kabupaten_kode', 'kemendagri_kabupaten_nama',\n",
       "       'street', 'level', 'median_length', 'median_delay', 'median_speed_kmh',\n",
       "       'total_records', 'id', 'date', 'median_level', 'geometry'],\n",
       "      dtype='object')"
      ]
     },
     "execution_count": 52,
     "metadata": {},
     "output_type": "execute_result"
    }
   ],
   "source": [
    "df_jams.columns"
   ]
  },
  {
   "cell_type": "code",
   "execution_count": 64,
   "metadata": {},
   "outputs": [
    {
     "name": "stdout",
     "output_type": "stream",
     "text": [
      "<class 'pandas.core.frame.DataFrame'>\n",
      "RangeIndex: 157218 entries, 0 to 157217\n",
      "Data columns (total 13 columns):\n",
      " #   Column                     Non-Null Count   Dtype  \n",
      "---  ------                     --------------   -----  \n",
      " 0   time                       157218 non-null  object \n",
      " 1   kemendagri_kabupaten_kode  157218 non-null  float64\n",
      " 2   kemendagri_kabupaten_nama  157218 non-null  object \n",
      " 3   street                     154459 non-null  object \n",
      " 4   level                      157218 non-null  int64  \n",
      " 5   median_length              157218 non-null  float64\n",
      " 6   median_delay               157218 non-null  float64\n",
      " 7   median_speed_kmh           157218 non-null  float64\n",
      " 8   total_records              157218 non-null  int64  \n",
      " 9   id                         157218 non-null  int64  \n",
      " 10  date                       157218 non-null  object \n",
      " 11  median_level               157218 non-null  float64\n",
      " 12  geometry                   157218 non-null  object \n",
      "dtypes: float64(5), int64(3), object(5)\n",
      "memory usage: 15.6+ MB\n"
     ]
    }
   ],
   "source": [
    "df_jams.info()"
   ]
  },
  {
   "cell_type": "code",
   "execution_count": 86,
   "metadata": {},
   "outputs": [],
   "source": [
    "pd.options.plotting.backend = \"plotly\""
   ]
  },
  {
   "cell_type": "code",
   "execution_count": 87,
   "metadata": {},
   "outputs": [
    {
     "data": {
      "text/plain": [
       "<BarContainer object of 10 artists>"
      ]
     },
     "execution_count": 87,
     "metadata": {},
     "output_type": "execute_result"
    },
    {
     "data": {
      "image/png": "[encoded data removed]",
      "text/plain": [
       "<Figure size 640x480 with 1 Axes>"
      ]
     },
     "metadata": {},
     "output_type": "display_data"
    }
   ],
   "source": [
    "plt.xticks(rotation=45)\n",
    "plt.bar(df_jams[\"street\"].value_counts().head(10).index, df_jams[\"street\"].value_counts().head(10).values)"
   ]
  },
  {
   "cell_type": "code",
   "execution_count": 102,
   "metadata": {},
   "outputs": [
    {
     "data": {
      "text/html": [
       "<div>\n",
       "<style scoped>\n",
       "    .dataframe tbody tr th:only-of-type {\n",
       "        vertical-align: middle;\n",
       "    }\n",
       "\n",
       "    .dataframe tbody tr th {\n",
       "        vertical-align: top;\n",
       "    }\n",
       "\n",
       "    .dataframe thead th {\n",
       "        text-align: right;\n",
       "    }\n",
       "</style>\n",
       "<table border=\"1\" class=\"dataframe\">\n",
       "  <thead>\n",
       "    <tr style=\"text-align: right;\">\n",
       "      <th></th>\n",
       "      <th>jumlah</th>\n",
       "    </tr>\n",
       "    <tr>\n",
       "      <th>Jalan Ramai</th>\n",
       "      <th></th>\n",
       "    </tr>\n",
       "  </thead>\n",
       "  <tbody>\n",
       "    <tr>\n",
       "      <th>N8 Jalan Raya Bogor</th>\n",
       "      <td>3683</td>\n",
       "    </tr>\n",
       "    <tr>\n",
       "      <th>Margonda Raya</th>\n",
       "      <td>3632</td>\n",
       "    </tr>\n",
       "    <tr>\n",
       "      <th>Sawangan Raya</th>\n",
       "      <td>3537</td>\n",
       "    </tr>\n",
       "    <tr>\n",
       "      <th>Jalan Raya Bogor</th>\n",
       "      <td>3482</td>\n",
       "    </tr>\n",
       "    <tr>\n",
       "      <th>Tole Iskandar</th>\n",
       "      <td>3136</td>\n",
       "    </tr>\n",
       "    <tr>\n",
       "      <th>Muhtar Raya</th>\n",
       "      <td>3119</td>\n",
       "    </tr>\n",
       "    <tr>\n",
       "      <th>Cinere Raya</th>\n",
       "      <td>3060</td>\n",
       "    </tr>\n",
       "    <tr>\n",
       "      <th>Citayam Raya</th>\n",
       "      <td>2927</td>\n",
       "    </tr>\n",
       "    <tr>\n",
       "      <th>Komjen Pol M Jasin</th>\n",
       "      <td>2864</td>\n",
       "    </tr>\n",
       "    <tr>\n",
       "      <th>N6 Cinangka Raya</th>\n",
       "      <td>2821</td>\n",
       "    </tr>\n",
       "  </tbody>\n",
       "</table>\n",
       "</div>"
      ],
      "text/plain": [
       "                     jumlah\n",
       "Jalan Ramai                \n",
       "N8 Jalan Raya Bogor    3683\n",
       "Margonda Raya          3632\n",
       "Sawangan Raya          3537\n",
       "Jalan Raya Bogor       3482\n",
       "Tole Iskandar          3136\n",
       "Muhtar Raya            3119\n",
       "Cinere Raya            3060\n",
       "Citayam Raya           2927\n",
       "Komjen Pol M Jasin     2864\n",
       "N6 Cinangka Raya       2821"
      ]
     },
     "execution_count": 102,
     "metadata": {},
     "output_type": "execute_result"
    }
   ],
   "source": [
    "df_jams[\"street\"].value_counts().head(10).rename_axis(\"Jalan Ramai\").to_frame(\"jumlah\")"
   ]
  },
  {
   "attachments": {},
   "cell_type": "markdown",
   "metadata": {},
   "source": [
    "## Alerts"
   ]
  },
  {
   "cell_type": "code",
   "execution_count": 15,
   "metadata": {},
   "outputs": [
    {
     "data": {
      "text/html": [
       "<div>\n",
       "<style scoped>\n",
       "    .dataframe tbody tr th:only-of-type {\n",
       "        vertical-align: middle;\n",
       "    }\n",
       "\n",
       "    .dataframe tbody tr th {\n",
       "        vertical-align: top;\n",
       "    }\n",
       "\n",
       "    .dataframe thead th {\n",
       "        text-align: right;\n",
       "    }\n",
       "</style>\n",
       "<table border=\"1\" class=\"dataframe\">\n",
       "  <thead>\n",
       "    <tr style=\"text-align: right;\">\n",
       "      <th></th>\n",
       "      <th>id</th>\n",
       "      <th>time</th>\n",
       "      <th>kemendagri_kabupaten_kode</th>\n",
       "      <th>kemendagri_kabupaten_nama</th>\n",
       "      <th>street</th>\n",
       "      <th>type</th>\n",
       "      <th>avg_location</th>\n",
       "      <th>total_records</th>\n",
       "      <th>date</th>\n",
       "    </tr>\n",
       "  </thead>\n",
       "  <tbody>\n",
       "    <tr>\n",
       "      <th>0</th>\n",
       "      <td>5931593</td>\n",
       "      <td>2022-07-06 00:00:00.000</td>\n",
       "      <td>32.76</td>\n",
       "      <td>KOTA DEPOK</td>\n",
       "      <td>Dewi Sartika</td>\n",
       "      <td>ROAD_CLOSED</td>\n",
       "      <td>[106.81841149999966, -6.399794999999999]</td>\n",
       "      <td>240</td>\n",
       "      <td>2022-07-06</td>\n",
       "    </tr>\n",
       "    <tr>\n",
       "      <th>1</th>\n",
       "      <td>5931594</td>\n",
       "      <td>2022-07-06 00:00:00.000</td>\n",
       "      <td>32.76</td>\n",
       "      <td>KOTA DEPOK</td>\n",
       "      <td>Krukut Raya</td>\n",
       "      <td>WEATHERHAZARD</td>\n",
       "      <td>[106.79100399999993, -6.363434999999996]</td>\n",
       "      <td>60</td>\n",
       "      <td>2022-07-06</td>\n",
       "    </tr>\n",
       "    <tr>\n",
       "      <th>2</th>\n",
       "      <td>5931595</td>\n",
       "      <td>2022-07-06 00:00:00.000</td>\n",
       "      <td>32.76</td>\n",
       "      <td>KOTA DEPOK</td>\n",
       "      <td>NaN</td>\n",
       "      <td>JAM</td>\n",
       "      <td>[106.783179, -6.443203999999998]</td>\n",
       "      <td>22</td>\n",
       "      <td>2022-07-06</td>\n",
       "    </tr>\n",
       "  </tbody>\n",
       "</table>\n",
       "</div>"
      ],
      "text/plain": [
       "        id                     time  kemendagri_kabupaten_kode  \\\n",
       "0  5931593  2022-07-06 00:00:00.000                      32.76   \n",
       "1  5931594  2022-07-06 00:00:00.000                      32.76   \n",
       "2  5931595  2022-07-06 00:00:00.000                      32.76   \n",
       "\n",
       "  kemendagri_kabupaten_nama        street           type  \\\n",
       "0                KOTA DEPOK  Dewi Sartika    ROAD_CLOSED   \n",
       "1                KOTA DEPOK   Krukut Raya  WEATHERHAZARD   \n",
       "2                KOTA DEPOK           NaN            JAM   \n",
       "\n",
       "                               avg_location  total_records        date  \n",
       "0  [106.81841149999966, -6.399794999999999]            240  2022-07-06  \n",
       "1  [106.79100399999993, -6.363434999999996]             60  2022-07-06  \n",
       "2          [106.783179, -6.443203999999998]             22  2022-07-06  "
      ]
     },
     "execution_count": 15,
     "metadata": {},
     "output_type": "execute_result"
    }
   ],
   "source": [
    "df_alerts = pd.read_csv(alerts_path)\n",
    "df_alerts.head(3)"
   ]
  },
  {
   "cell_type": "code",
   "execution_count": 16,
   "metadata": {},
   "outputs": [
    {
     "data": {
      "application/vnd.plotly.v1+json": {
       "config": {
        "plotlyServerURL": "https://plot.ly"
       },
       "data": [
        {
         "alignmentgroup": "True",
         "hovertemplate": "variable=0<br>index=%{x}<br>value=%{y}<extra></extra>",
         "legendgroup": "0",
         "marker": {
          "color": "#636efa",
          "pattern": {
           "shape": ""
          }
         },
         "name": "0",
         "offsetgroup": "0",
         "orientation": "v",
         "showlegend": true,
         "textposition": "auto",
         "type": "bar",
         "x": [
          "id",
          "time",
          "kemendagri_kabupaten_kode",
          "kemendagri_kabupaten_nama",
          "street",
          "type",
          "avg_location",
          "total_records",
          "date"
         ],
         "xaxis": "x",
         "y": [
          0,
          0,
          0,
          0,
          1294,
          0,
          0,
          0,
          0
         ],
         "yaxis": "y"
        }
       ],
       "layout": {
        "barmode": "relative",
        "legend": {
         "title": {
          "text": "variable"
         },
         "tracegroupgap": 0
        },
        "margin": {
         "t": 60
        },
        "template": {
         "data": {
          "bar": [
           {
            "error_x": {
             "color": "#2a3f5f"
            },
            "error_y": {
             "color": "#2a3f5f"
            },
            "marker": {
             "line": {
              "color": "#E5ECF6",
              "width": 0.5
             },
             "pattern": {
              "fillmode": "overlay",
              "size": 10,
              "solidity": 0.2
             }
            },
            "type": "bar"
           }
          ],
          "barpolar": [
           {
            "marker": {
             "line": {
              "color": "#E5ECF6",
              "width": 0.5
             },
             "pattern": {
              "fillmode": "overlay",
              "size": 10,
              "solidity": 0.2
             }
            },
            "type": "barpolar"
           }
          ],
          "carpet": [
           {
            "aaxis": {
             "endlinecolor": "#2a3f5f",
             "gridcolor": "white",
             "linecolor": "white",
             "minorgridcolor": "white",
             "startlinecolor": "#2a3f5f"
            },
            "baxis": {
             "endlinecolor": "#2a3f5f",
             "gridcolor": "white",
             "linecolor": "white",
             "minorgridcolor": "white",
             "startlinecolor": "#2a3f5f"
            },
            "type": "carpet"
           }
          ],
          "choropleth": [
           {
            "colorbar": {
             "outlinewidth": 0,
             "ticks": ""
            },
            "type": "choropleth"
           }
          ],
          "contour": [
           {
            "colorbar": {
             "outlinewidth": 0,
             "ticks": ""
            },
            "colorscale": [
             [
              0,
              "#0d0887"
             ],
             [
              0.1111111111111111,
              "#46039f"
             ],
             [
              0.2222222222222222,
              "#7201a8"
             ],
             [
              0.3333333333333333,
              "#9c179e"
             ],
             [
              0.4444444444444444,
              "#bd3786"
             ],
             [
              0.5555555555555556,
              "#d8576b"
             ],
             [
              0.6666666666666666,
              "#ed7953"
             ],
             [
              0.7777777777777778,
              "#fb9f3a"
             ],
             [
              0.8888888888888888,
              "#fdca26"
             ],
             [
              1,
              "#f0f921"
             ]
            ],
            "type": "contour"
           }
          ],
          "contourcarpet": [
           {
            "colorbar": {
             "outlinewidth": 0,
             "ticks": ""
            },
            "type": "contourcarpet"
           }
          ],
          "heatmap": [
           {
            "colorbar": {
             "outlinewidth": 0,
             "ticks": ""
            },
            "colorscale": [
             [
              0,
              "#0d0887"
             ],
             [
              0.1111111111111111,
              "#46039f"
             ],
             [
              0.2222222222222222,
              "#7201a8"
             ],
             [
              0.3333333333333333,
              "#9c179e"
             ],
             [
              0.4444444444444444,
              "#bd3786"
             ],
             [
              0.5555555555555556,
              "#d8576b"
             ],
             [
              0.6666666666666666,
              "#ed7953"
             ],
             [
              0.7777777777777778,
              "#fb9f3a"
             ],
             [
              0.8888888888888888,
              "#fdca26"
             ],
             [
              1,
              "#f0f921"
             ]
            ],
            "type": "heatmap"
           }
          ],
          "heatmapgl": [
           {
            "colorbar": {
             "outlinewidth": 0,
             "ticks": ""
            },
            "colorscale": [
             [
              0,
              "#0d0887"
             ],
             [
              0.1111111111111111,
              "#46039f"
             ],
             [
              0.2222222222222222,
              "#7201a8"
             ],
             [
              0.3333333333333333,
              "#9c179e"
             ],
             [
              0.4444444444444444,
              "#bd3786"
             ],
             [
              0.5555555555555556,
              "#d8576b"
             ],
             [
              0.6666666666666666,
              "#ed7953"
             ],
             [
              0.7777777777777778,
              "#fb9f3a"
             ],
             [
              0.8888888888888888,
              "#fdca26"
             ],
             [
              1,
              "#f0f921"
             ]
            ],
            "type": "heatmapgl"
           }
          ],
          "histogram": [
           {
            "marker": {
             "pattern": {
              "fillmode": "overlay",
              "size": 10,
              "solidity": 0.2
             }
            },
            "type": "histogram"
           }
          ],
          "histogram2d": [
           {
            "colorbar": {
             "outlinewidth": 0,
             "ticks": ""
            },
            "colorscale": [
             [
              0,
              "#0d0887"
             ],
             [
              0.1111111111111111,
              "#46039f"
             ],
             [
              0.2222222222222222,
              "#7201a8"
             ],
             [
              0.3333333333333333,
              "#9c179e"
             ],
             [
              0.4444444444444444,
              "#bd3786"
             ],
             [
              0.5555555555555556,
              "#d8576b"
             ],
             [
              0.6666666666666666,
              "#ed7953"
             ],
             [
              0.7777777777777778,
              "#fb9f3a"
             ],
             [
              0.8888888888888888,
              "#fdca26"
             ],
             [
              1,
              "#f0f921"
             ]
            ],
            "type": "histogram2d"
           }
          ],
          "histogram2dcontour": [
           {
            "colorbar": {
             "outlinewidth": 0,
             "ticks": ""
            },
            "colorscale": [
             [
              0,
              "#0d0887"
             ],
             [
              0.1111111111111111,
              "#46039f"
             ],
             [
              0.2222222222222222,
              "#7201a8"
             ],
             [
              0.3333333333333333,
              "#9c179e"
             ],
             [
              0.4444444444444444,
              "#bd3786"
             ],
             [
              0.5555555555555556,
              "#d8576b"
             ],
             [
              0.6666666666666666,
              "#ed7953"
             ],
             [
              0.7777777777777778,
              "#fb9f3a"
             ],
             [
              0.8888888888888888,
              "#fdca26"
             ],
             [
              1,
              "#f0f921"
             ]
            ],
            "type": "histogram2dcontour"
           }
          ],
          "mesh3d": [
           {
            "colorbar": {
             "outlinewidth": 0,
             "ticks": ""
            },
            "type": "mesh3d"
           }
          ],
          "parcoords": [
           {
            "line": {
             "colorbar": {
              "outlinewidth": 0,
              "ticks": ""
             }
            },
            "type": "parcoords"
           }
          ],
          "pie": [
           {
            "automargin": true,
            "type": "pie"
           }
          ],
          "scatter": [
           {
            "fillpattern": {
             "fillmode": "overlay",
             "size": 10,
             "solidity": 0.2
            },
            "type": "scatter"
           }
          ],
          "scatter3d": [
           {
            "line": {
             "colorbar": {
              "outlinewidth": 0,
              "ticks": ""
             }
            },
            "marker": {
             "colorbar": {
              "outlinewidth": 0,
              "ticks": ""
             }
            },
            "type": "scatter3d"
           }
          ],
          "scattercarpet": [
           {
            "marker": {
             "colorbar": {
              "outlinewidth": 0,
              "ticks": ""
             }
            },
            "type": "scattercarpet"
           }
          ],
          "scattergeo": [
           {
            "marker": {
             "colorbar": {
              "outlinewidth": 0,
              "ticks": ""
             }
            },
            "type": "scattergeo"
           }
          ],
          "scattergl": [
           {
            "marker": {
             "colorbar": {
              "outlinewidth": 0,
              "ticks": ""
             }
            },
            "type": "scattergl"
           }
          ],
          "scattermapbox": [
           {
            "marker": {
             "colorbar": {
              "outlinewidth": 0,
              "ticks": ""
             }
            },
            "type": "scattermapbox"
           }
          ],
          "scatterpolar": [
           {
            "marker": {
             "colorbar": {
              "outlinewidth": 0,
              "ticks": ""
             }
            },
            "type": "scatterpolar"
           }
          ],
          "scatterpolargl": [
           {
            "marker": {
             "colorbar": {
              "outlinewidth": 0,
              "ticks": ""
             }
            },
            "type": "scatterpolargl"
           }
          ],
          "scatterternary": [
           {
            "marker": {
             "colorbar": {
              "outlinewidth": 0,
              "ticks": ""
             }
            },
            "type": "scatterternary"
           }
          ],
          "surface": [
           {
            "colorbar": {
             "outlinewidth": 0,
             "ticks": ""
            },
            "colorscale": [
             [
              0,
              "#0d0887"
             ],
             [
              0.1111111111111111,
              "#46039f"
             ],
             [
              0.2222222222222222,
              "#7201a8"
             ],
             [
              0.3333333333333333,
              "#9c179e"
             ],
             [
              0.4444444444444444,
              "#bd3786"
             ],
             [
              0.5555555555555556,
              "#d8576b"
             ],
             [
              0.6666666666666666,
              "#ed7953"
             ],
             [
              0.7777777777777778,
              "#fb9f3a"
             ],
             [
              0.8888888888888888,
              "#fdca26"
             ],
             [
              1,
              "#f0f921"
             ]
            ],
            "type": "surface"
           }
          ],
          "table": [
           {
            "cells": {
             "fill": {
              "color": "#EBF0F8"
             },
             "line": {
              "color": "white"
             }
            },
            "header": {
             "fill": {
              "color": "#C8D4E3"
             },
             "line": {
              "color": "white"
             }
            },
            "type": "table"
           }
          ]
         },
         "layout": {
          "annotationdefaults": {
           "arrowcolor": "#2a3f5f",
           "arrowhead": 0,
           "arrowwidth": 1
          },
          "autotypenumbers": "strict",
          "coloraxis": {
           "colorbar": {
            "outlinewidth": 0,
            "ticks": ""
           }
          },
          "colorscale": {
           "diverging": [
            [
             0,
             "#8e0152"
            ],
            [
             0.1,
             "#c51b7d"
            ],
            [
             0.2,
             "#de77ae"
            ],
            [
             0.3,
             "#f1b6da"
            ],
            [
             0.4,
             "#fde0ef"
            ],
            [
             0.5,
             "#f7f7f7"
            ],
            [
             0.6,
             "#e6f5d0"
            ],
            [
             0.7,
             "#b8e186"
            ],
            [
             0.8,
             "#7fbc41"
            ],
            [
             0.9,
             "#4d9221"
            ],
            [
             1,
             "#276419"
            ]
           ],
           "sequential": [
            [
             0,
             "#0d0887"
            ],
            [
             0.1111111111111111,
             "#46039f"
            ],
            [
             0.2222222222222222,
             "#7201a8"
            ],
            [
             0.3333333333333333,
             "#9c179e"
            ],
            [
             0.4444444444444444,
             "#bd3786"
            ],
            [
             0.5555555555555556,
             "#d8576b"
            ],
            [
             0.6666666666666666,
             "#ed7953"
            ],
            [
             0.7777777777777778,
             "#fb9f3a"
            ],
            [
             0.8888888888888888,
             "#fdca26"
            ],
            [
             1,
             "#f0f921"
            ]
           ],
           "sequentialminus": [
            [
             0,
             "#0d0887"
            ],
            [
             0.1111111111111111,
             "#46039f"
            ],
            [
             0.2222222222222222,
             "#7201a8"
            ],
            [
             0.3333333333333333,
             "#9c179e"
            ],
            [
             0.4444444444444444,
             "#bd3786"
            ],
            [
             0.5555555555555556,
             "#d8576b"
            ],
            [
             0.6666666666666666,
             "#ed7953"
            ],
            [
             0.7777777777777778,
             "#fb9f3a"
            ],
            [
             0.8888888888888888,
             "#fdca26"
            ],
            [
             1,
             "#f0f921"
            ]
           ]
          },
          "colorway": [
           "#636efa",
           "#EF553B",
           "#00cc96",
           "#ab63fa",
           "#FFA15A",
           "#19d3f3",
           "#FF6692",
           "#B6E880",
           "#FF97FF",
           "#FECB52"
          ],
          "font": {
           "color": "#2a3f5f"
          },
          "geo": {
           "bgcolor": "white",
           "lakecolor": "white",
           "landcolor": "#E5ECF6",
           "showlakes": true,
           "showland": true,
           "subunitcolor": "white"
          },
          "hoverlabel": {
           "align": "left"
          },
          "hovermode": "closest",
          "mapbox": {
           "style": "light"
          },
          "paper_bgcolor": "white",
          "plot_bgcolor": "#E5ECF6",
          "polar": {
           "angularaxis": {
            "gridcolor": "white",
            "linecolor": "white",
            "ticks": ""
           },
           "bgcolor": "#E5ECF6",
           "radialaxis": {
            "gridcolor": "white",
            "linecolor": "white",
            "ticks": ""
           }
          },
          "scene": {
           "xaxis": {
            "backgroundcolor": "#E5ECF6",
            "gridcolor": "white",
            "gridwidth": 2,
            "linecolor": "white",
            "showbackground": true,
            "ticks": "",
            "zerolinecolor": "white"
           },
           "yaxis": {
            "backgroundcolor": "#E5ECF6",
            "gridcolor": "white",
            "gridwidth": 2,
            "linecolor": "white",
            "showbackground": true,
            "ticks": "",
            "zerolinecolor": "white"
           },
           "zaxis": {
            "backgroundcolor": "#E5ECF6",
            "gridcolor": "white",
            "gridwidth": 2,
            "linecolor": "white",
            "showbackground": true,
            "ticks": "",
            "zerolinecolor": "white"
           }
          },
          "shapedefaults": {
           "line": {
            "color": "#2a3f5f"
           }
          },
          "ternary": {
           "aaxis": {
            "gridcolor": "white",
            "linecolor": "white",
            "ticks": ""
           },
           "baxis": {
            "gridcolor": "white",
            "linecolor": "white",
            "ticks": ""
           },
           "bgcolor": "#E5ECF6",
           "caxis": {
            "gridcolor": "white",
            "linecolor": "white",
            "ticks": ""
           }
          },
          "title": {
           "x": 0.05
          },
          "xaxis": {
           "automargin": true,
           "gridcolor": "white",
           "linecolor": "white",
           "ticks": "",
           "title": {
            "standoff": 15
           },
           "zerolinecolor": "white",
           "zerolinewidth": 2
          },
          "yaxis": {
           "automargin": true,
           "gridcolor": "white",
           "linecolor": "white",
           "ticks": "",
           "title": {
            "standoff": 15
           },
           "zerolinecolor": "white",
           "zerolinewidth": 2
          }
         }
        },
        "xaxis": {
         "anchor": "y",
         "domain": [
          0,
          1
         ],
         "title": {
          "text": "index"
         }
        },
        "yaxis": {
         "anchor": "x",
         "domain": [
          0,
          1
         ],
         "title": {
          "text": "value"
         }
        }
       }
      }
     },
     "metadata": {},
     "output_type": "display_data"
    }
   ],
   "source": [
    "# analisis null value\n",
    "df_alerts.isna().sum().plot(kind='bar')"
   ]
  },
  {
   "cell_type": "code",
   "execution_count": 17,
   "metadata": {},
   "outputs": [
    {
     "data": {
      "text/html": [
       "<div>\n",
       "<style scoped>\n",
       "    .dataframe tbody tr th:only-of-type {\n",
       "        vertical-align: middle;\n",
       "    }\n",
       "\n",
       "    .dataframe tbody tr th {\n",
       "        vertical-align: top;\n",
       "    }\n",
       "\n",
       "    .dataframe thead th {\n",
       "        text-align: right;\n",
       "    }\n",
       "</style>\n",
       "<table border=\"1\" class=\"dataframe\">\n",
       "  <thead>\n",
       "    <tr style=\"text-align: right;\">\n",
       "      <th></th>\n",
       "      <th>id</th>\n",
       "      <th>kemendagri_kabupaten_kode</th>\n",
       "      <th>total_records</th>\n",
       "    </tr>\n",
       "  </thead>\n",
       "  <tbody>\n",
       "    <tr>\n",
       "      <th>count</th>\n",
       "      <td>1.804000e+04</td>\n",
       "      <td>18040.00</td>\n",
       "      <td>18040.000000</td>\n",
       "    </tr>\n",
       "    <tr>\n",
       "      <th>mean</th>\n",
       "      <td>6.082011e+06</td>\n",
       "      <td>32.76</td>\n",
       "      <td>57.487805</td>\n",
       "    </tr>\n",
       "    <tr>\n",
       "      <th>std</th>\n",
       "      <td>8.211988e+04</td>\n",
       "      <td>0.00</td>\n",
       "      <td>70.836164</td>\n",
       "    </tr>\n",
       "    <tr>\n",
       "      <th>min</th>\n",
       "      <td>5.931593e+06</td>\n",
       "      <td>32.76</td>\n",
       "      <td>1.000000</td>\n",
       "    </tr>\n",
       "    <tr>\n",
       "      <th>25%</th>\n",
       "      <td>6.009374e+06</td>\n",
       "      <td>32.76</td>\n",
       "      <td>15.000000</td>\n",
       "    </tr>\n",
       "    <tr>\n",
       "      <th>50%</th>\n",
       "      <td>6.085594e+06</td>\n",
       "      <td>32.76</td>\n",
       "      <td>30.000000</td>\n",
       "    </tr>\n",
       "    <tr>\n",
       "      <th>75%</th>\n",
       "      <td>6.153102e+06</td>\n",
       "      <td>32.76</td>\n",
       "      <td>60.000000</td>\n",
       "    </tr>\n",
       "    <tr>\n",
       "      <th>max</th>\n",
       "      <td>6.221717e+06</td>\n",
       "      <td>32.76</td>\n",
       "      <td>723.000000</td>\n",
       "    </tr>\n",
       "  </tbody>\n",
       "</table>\n",
       "</div>"
      ],
      "text/plain": [
       "                 id  kemendagri_kabupaten_kode  total_records\n",
       "count  1.804000e+04                   18040.00   18040.000000\n",
       "mean   6.082011e+06                      32.76      57.487805\n",
       "std    8.211988e+04                       0.00      70.836164\n",
       "min    5.931593e+06                      32.76       1.000000\n",
       "25%    6.009374e+06                      32.76      15.000000\n",
       "50%    6.085594e+06                      32.76      30.000000\n",
       "75%    6.153102e+06                      32.76      60.000000\n",
       "max    6.221717e+06                      32.76     723.000000"
      ]
     },
     "execution_count": 17,
     "metadata": {},
     "output_type": "execute_result"
    }
   ],
   "source": [
    "# analisis statistik\n",
    "df_alerts.describe()"
   ]
  },
  {
   "cell_type": "code",
   "execution_count": 18,
   "metadata": {},
   "outputs": [
    {
     "name": "stdout",
     "output_type": "stream",
     "text": [
      "<class 'pandas.core.frame.DataFrame'>\n",
      "RangeIndex: 18040 entries, 0 to 18039\n",
      "Data columns (total 9 columns):\n",
      " #   Column                     Non-Null Count  Dtype  \n",
      "---  ------                     --------------  -----  \n",
      " 0   id                         18040 non-null  int64  \n",
      " 1   time                       18040 non-null  object \n",
      " 2   kemendagri_kabupaten_kode  18040 non-null  float64\n",
      " 3   kemendagri_kabupaten_nama  18040 non-null  object \n",
      " 4   street                     16746 non-null  object \n",
      " 5   type                       18040 non-null  object \n",
      " 6   avg_location               18040 non-null  object \n",
      " 7   total_records              18040 non-null  int64  \n",
      " 8   date                       18040 non-null  object \n",
      "dtypes: float64(1), int64(2), object(6)\n",
      "memory usage: 1.2+ MB\n",
      "None\n"
     ]
    },
    {
     "data": {
      "text/plain": [
       "array(['ROAD_CLOSED', 'WEATHERHAZARD', 'JAM', 'ACCIDENT'], dtype=object)"
      ]
     },
     "execution_count": 18,
     "metadata": {},
     "output_type": "execute_result"
    }
   ],
   "source": [
    "# analisis kolom\n",
    "print(df_alerts.info())\n",
    "df_alerts['type'].unique()"
   ]
  },
  {
   "cell_type": "code",
   "execution_count": 19,
   "metadata": {},
   "outputs": [
    {
     "name": "stdout",
     "output_type": "stream",
     "text": [
      "0 N8 Jalan Raya Bogor\n",
      "1 Margonda Raya\n",
      "2 Sawangan Raya\n"
     ]
    }
   ],
   "source": [
    "# Simpan 3 sample jalan : N9 Raden KH Abdullah bin Nuh, N9 Jalan Raya Pajajaran, N9 Jalan Raya Dramaga\n",
    "for i, street in enumerate(['N8 Jalan Raya Bogor', 'Margonda Raya', 'Sawangan Raya']):\n",
    "  print(i, street)\n",
    "  df_alerts_sample = df_alerts.loc[(df_alerts['street'] == street)]\n",
    "  df_alerts_sample = df_alerts_sample.drop(['id', 'kemendagri_kabupaten_kode', 'kemendagri_kabupaten_nama', 'street'\n",
    "  , 'avg_location', 'total_records', 'date'], axis=1)\n",
    "  df_alerts_sample['time'] = pd.to_datetime(df_alerts_sample['time'])\n",
    "  df_alerts_sample.to_csv(r'Clean\\sample_alerts_{}.csv'.format(i), index=False)"
   ]
  },
  {
   "cell_type": "code",
   "execution_count": 104,
   "metadata": {},
   "outputs": [
    {
     "data": {
      "text/plain": [
       "<BarContainer object of 10 artists>"
      ]
     },
     "execution_count": 104,
     "metadata": {},
     "output_type": "execute_result"
    },
    {
     "data": {
      "image/png": "[encoded data removed]",
      "text/plain": [
       "<Figure size 640x480 with 1 Axes>"
      ]
     },
     "metadata": {},
     "output_type": "display_data"
    }
   ],
   "source": [
    "plt.xticks(rotation=45)\n",
    "plt.bar(df_alerts[\"street\"].value_counts().head(10).index, df_alerts[\"street\"].value_counts().head(10).values)"
   ]
  },
  {
   "attachments": {},
   "cell_type": "markdown",
   "metadata": {},
   "source": [
    "## irregularities"
   ]
  },
  {
   "cell_type": "code",
   "execution_count": 20,
   "metadata": {},
   "outputs": [
    {
     "data": {
      "text/html": [
       "<div>\n",
       "<style scoped>\n",
       "    .dataframe tbody tr th:only-of-type {\n",
       "        vertical-align: middle;\n",
       "    }\n",
       "\n",
       "    .dataframe tbody tr th {\n",
       "        vertical-align: top;\n",
       "    }\n",
       "\n",
       "    .dataframe thead th {\n",
       "        text-align: right;\n",
       "    }\n",
       "</style>\n",
       "<table border=\"1\" class=\"dataframe\">\n",
       "  <thead>\n",
       "    <tr style=\"text-align: right;\">\n",
       "      <th></th>\n",
       "      <th>time</th>\n",
       "      <th>kemendagri_kabupaten_kode</th>\n",
       "      <th>kemendagri_kabupaten_nama</th>\n",
       "      <th>street</th>\n",
       "      <th>jam_level</th>\n",
       "      <th>median_length</th>\n",
       "      <th>median_delay_seconds</th>\n",
       "      <th>median_regular_speed</th>\n",
       "      <th>total_records</th>\n",
       "      <th>cause_type</th>\n",
       "      <th>median_seconds</th>\n",
       "      <th>median_speed</th>\n",
       "      <th>date</th>\n",
       "      <th>median_jam_level</th>\n",
       "      <th>id</th>\n",
       "      <th>geometry</th>\n",
       "    </tr>\n",
       "  </thead>\n",
       "  <tbody>\n",
       "    <tr>\n",
       "      <th>0</th>\n",
       "      <td>2022-07-06 07:00:00.000</td>\n",
       "      <td>32.76</td>\n",
       "      <td>KOTA DEPOK</td>\n",
       "      <td>Prof Dr Mr Supomo</td>\n",
       "      <td>3</td>\n",
       "      <td>535.0</td>\n",
       "      <td>460.0</td>\n",
       "      <td>21.00</td>\n",
       "      <td>2</td>\n",
       "      <td>NaN</td>\n",
       "      <td>567.0</td>\n",
       "      <td>3.390</td>\n",
       "      <td>2022-07-06</td>\n",
       "      <td>3.0</td>\n",
       "      <td>1493443</td>\n",
       "      <td>LINESTRING (106.831075 -6.357956, 106.831177 -...</td>\n",
       "    </tr>\n",
       "    <tr>\n",
       "      <th>1</th>\n",
       "      <td>2022-07-06 07:00:00.000</td>\n",
       "      <td>32.76</td>\n",
       "      <td>KOTA DEPOK</td>\n",
       "      <td>Bungur Raya</td>\n",
       "      <td>3</td>\n",
       "      <td>604.0</td>\n",
       "      <td>382.0</td>\n",
       "      <td>7.91</td>\n",
       "      <td>2</td>\n",
       "      <td>NaN</td>\n",
       "      <td>472.0</td>\n",
       "      <td>4.605</td>\n",
       "      <td>2022-07-06</td>\n",
       "      <td>3.0</td>\n",
       "      <td>1493441</td>\n",
       "      <td>LINESTRING (106.808105 -6.368486, 106.808505 -...</td>\n",
       "    </tr>\n",
       "    <tr>\n",
       "      <th>2</th>\n",
       "      <td>2022-07-06 07:00:00.000</td>\n",
       "      <td>32.76</td>\n",
       "      <td>KOTA DEPOK</td>\n",
       "      <td>Bungur Raya</td>\n",
       "      <td>4</td>\n",
       "      <td>604.0</td>\n",
       "      <td>481.0</td>\n",
       "      <td>9.40</td>\n",
       "      <td>19</td>\n",
       "      <td>NaN</td>\n",
       "      <td>571.0</td>\n",
       "      <td>3.800</td>\n",
       "      <td>2022-07-06</td>\n",
       "      <td>4.0</td>\n",
       "      <td>1493442</td>\n",
       "      <td>MULTILINESTRING ((106.813307 -6.369841, 106.81...</td>\n",
       "    </tr>\n",
       "  </tbody>\n",
       "</table>\n",
       "</div>"
      ],
      "text/plain": [
       "                      time  kemendagri_kabupaten_kode  \\\n",
       "0  2022-07-06 07:00:00.000                      32.76   \n",
       "1  2022-07-06 07:00:00.000                      32.76   \n",
       "2  2022-07-06 07:00:00.000                      32.76   \n",
       "\n",
       "  kemendagri_kabupaten_nama             street  jam_level  median_length  \\\n",
       "0                KOTA DEPOK  Prof Dr Mr Supomo          3          535.0   \n",
       "1                KOTA DEPOK        Bungur Raya          3          604.0   \n",
       "2                KOTA DEPOK        Bungur Raya          4          604.0   \n",
       "\n",
       "   median_delay_seconds  median_regular_speed  total_records  cause_type  \\\n",
       "0                 460.0                 21.00              2         NaN   \n",
       "1                 382.0                  7.91              2         NaN   \n",
       "2                 481.0                  9.40             19         NaN   \n",
       "\n",
       "   median_seconds  median_speed        date  median_jam_level       id  \\\n",
       "0           567.0         3.390  2022-07-06               3.0  1493443   \n",
       "1           472.0         4.605  2022-07-06               3.0  1493441   \n",
       "2           571.0         3.800  2022-07-06               4.0  1493442   \n",
       "\n",
       "                                            geometry  \n",
       "0  LINESTRING (106.831075 -6.357956, 106.831177 -...  \n",
       "1  LINESTRING (106.808105 -6.368486, 106.808505 -...  \n",
       "2  MULTILINESTRING ((106.813307 -6.369841, 106.81...  "
      ]
     },
     "execution_count": 20,
     "metadata": {},
     "output_type": "execute_result"
    }
   ],
   "source": [
    "df_irregularities = pd.read_csv(median_irregularities_path)\n",
    "df_irregularities.head(3)"
   ]
  },
  {
   "cell_type": "code",
   "execution_count": 21,
   "metadata": {},
   "outputs": [
    {
     "data": {
      "application/vnd.plotly.v1+json": {
       "config": {
        "plotlyServerURL": "https://plot.ly"
       },
       "data": [
        {
         "alignmentgroup": "True",
         "hovertemplate": "variable=0<br>index=%{x}<br>value=%{y}<extra></extra>",
         "legendgroup": "0",
         "marker": {
          "color": "#636efa",
          "pattern": {
           "shape": ""
          }
         },
         "name": "0",
         "offsetgroup": "0",
         "orientation": "v",
         "showlegend": true,
         "textposition": "auto",
         "type": "bar",
         "x": [
          "time",
          "kemendagri_kabupaten_kode",
          "kemendagri_kabupaten_nama",
          "street",
          "jam_level",
          "median_length",
          "median_delay_seconds",
          "median_regular_speed",
          "total_records",
          "cause_type",
          "median_seconds",
          "median_speed",
          "date",
          "median_jam_level",
          "id",
          "geometry"
         ],
         "xaxis": "x",
         "y": [
          0,
          0,
          0,
          44,
          0,
          0,
          0,
          0,
          0,
          8313,
          0,
          0,
          0,
          0,
          0,
          0
         ],
         "yaxis": "y"
        }
       ],
       "layout": {
        "barmode": "relative",
        "legend": {
         "title": {
          "text": "variable"
         },
         "tracegroupgap": 0
        },
        "margin": {
         "t": 60
        },
        "template": {
         "data": {
          "bar": [
           {
            "error_x": {
             "color": "#2a3f5f"
            },
            "error_y": {
             "color": "#2a3f5f"
            },
            "marker": {
             "line": {
              "color": "#E5ECF6",
              "width": 0.5
             },
             "pattern": {
              "fillmode": "overlay",
              "size": 10,
              "solidity": 0.2
             }
            },
            "type": "bar"
           }
          ],
          "barpolar": [
           {
            "marker": {
             "line": {
              "color": "#E5ECF6",
              "width": 0.5
             },
             "pattern": {
              "fillmode": "overlay",
              "size": 10,
              "solidity": 0.2
             }
            },
            "type": "barpolar"
           }
          ],
          "carpet": [
           {
            "aaxis": {
             "endlinecolor": "#2a3f5f",
             "gridcolor": "white",
             "linecolor": "white",
             "minorgridcolor": "white",
             "startlinecolor": "#2a3f5f"
            },
            "baxis": {
             "endlinecolor": "#2a3f5f",
             "gridcolor": "white",
             "linecolor": "white",
             "minorgridcolor": "white",
             "startlinecolor": "#2a3f5f"
            },
            "type": "carpet"
           }
          ],
          "choropleth": [
           {
            "colorbar": {
             "outlinewidth": 0,
             "ticks": ""
            },
            "type": "choropleth"
           }
          ],
          "contour": [
           {
            "colorbar": {
             "outlinewidth": 0,
             "ticks": ""
            },
            "colorscale": [
             [
              0,
              "#0d0887"
             ],
             [
              0.1111111111111111,
              "#46039f"
             ],
             [
              0.2222222222222222,
              "#7201a8"
             ],
             [
              0.3333333333333333,
              "#9c179e"
             ],
             [
              0.4444444444444444,
              "#bd3786"
             ],
             [
              0.5555555555555556,
              "#d8576b"
             ],
             [
              0.6666666666666666,
              "#ed7953"
             ],
             [
              0.7777777777777778,
              "#fb9f3a"
             ],
             [
              0.8888888888888888,
              "#fdca26"
             ],
             [
              1,
              "#f0f921"
             ]
            ],
            "type": "contour"
           }
          ],
          "contourcarpet": [
           {
            "colorbar": {
             "outlinewidth": 0,
             "ticks": ""
            },
            "type": "contourcarpet"
           }
          ],
          "heatmap": [
           {
            "colorbar": {
             "outlinewidth": 0,
             "ticks": ""
            },
            "colorscale": [
             [
              0,
              "#0d0887"
             ],
             [
              0.1111111111111111,
              "#46039f"
             ],
             [
              0.2222222222222222,
              "#7201a8"
             ],
             [
              0.3333333333333333,
              "#9c179e"
             ],
             [
              0.4444444444444444,
              "#bd3786"
             ],
             [
              0.5555555555555556,
              "#d8576b"
             ],
             [
              0.6666666666666666,
              "#ed7953"
             ],
             [
              0.7777777777777778,
              "#fb9f3a"
             ],
             [
              0.8888888888888888,
              "#fdca26"
             ],
             [
              1,
              "#f0f921"
             ]
            ],
            "type": "heatmap"
           }
          ],
          "heatmapgl": [
           {
            "colorbar": {
             "outlinewidth": 0,
             "ticks": ""
            },
            "colorscale": [
             [
              0,
              "#0d0887"
             ],
             [
              0.1111111111111111,
              "#46039f"
             ],
             [
              0.2222222222222222,
              "#7201a8"
             ],
             [
              0.3333333333333333,
              "#9c179e"
             ],
             [
              0.4444444444444444,
              "#bd3786"
             ],
             [
              0.5555555555555556,
              "#d8576b"
             ],
             [
              0.6666666666666666,
              "#ed7953"
             ],
             [
              0.7777777777777778,
              "#fb9f3a"
             ],
             [
              0.8888888888888888,
              "#fdca26"
             ],
             [
              1,
              "#f0f921"
             ]
            ],
            "type": "heatmapgl"
           }
          ],
          "histogram": [
           {
            "marker": {
             "pattern": {
              "fillmode": "overlay",
              "size": 10,
              "solidity": 0.2
             }
            },
            "type": "histogram"
           }
          ],
          "histogram2d": [
           {
            "colorbar": {
             "outlinewidth": 0,
             "ticks": ""
            },
            "colorscale": [
             [
              0,
              "#0d0887"
             ],
             [
              0.1111111111111111,
              "#46039f"
             ],
             [
              0.2222222222222222,
              "#7201a8"
             ],
             [
              0.3333333333333333,
              "#9c179e"
             ],
             [
              0.4444444444444444,
              "#bd3786"
             ],
             [
              0.5555555555555556,
              "#d8576b"
             ],
             [
              0.6666666666666666,
              "#ed7953"
             ],
             [
              0.7777777777777778,
              "#fb9f3a"
             ],
             [
              0.8888888888888888,
              "#fdca26"
             ],
             [
              1,
              "#f0f921"
             ]
            ],
            "type": "histogram2d"
           }
          ],
          "histogram2dcontour": [
           {
            "colorbar": {
             "outlinewidth": 0,
             "ticks": ""
            },
            "colorscale": [
             [
              0,
              "#0d0887"
             ],
             [
              0.1111111111111111,
              "#46039f"
             ],
             [
              0.2222222222222222,
              "#7201a8"
             ],
             [
              0.3333333333333333,
              "#9c179e"
             ],
             [
              0.4444444444444444,
              "#bd3786"
             ],
             [
              0.5555555555555556,
              "#d8576b"
             ],
             [
              0.6666666666666666,
              "#ed7953"
             ],
             [
              0.7777777777777778,
              "#fb9f3a"
             ],
             [
              0.8888888888888888,
              "#fdca26"
             ],
             [
              1,
              "#f0f921"
             ]
            ],
            "type": "histogram2dcontour"
           }
          ],
          "mesh3d": [
           {
            "colorbar": {
             "outlinewidth": 0,
             "ticks": ""
            },
            "type": "mesh3d"
           }
          ],
          "parcoords": [
           {
            "line": {
             "colorbar": {
              "outlinewidth": 0,
              "ticks": ""
             }
            },
            "type": "parcoords"
           }
          ],
          "pie": [
           {
            "automargin": true,
            "type": "pie"
           }
          ],
          "scatter": [
           {
            "fillpattern": {
             "fillmode": "overlay",
             "size": 10,
             "solidity": 0.2
            },
            "type": "scatter"
           }
          ],
          "scatter3d": [
           {
            "line": {
             "colorbar": {
              "outlinewidth": 0,
              "ticks": ""
             }
            },
            "marker": {
             "colorbar": {
              "outlinewidth": 0,
              "ticks": ""
             }
            },
            "type": "scatter3d"
           }
          ],
          "scattercarpet": [
           {
            "marker": {
             "colorbar": {
              "outlinewidth": 0,
              "ticks": ""
             }
            },
            "type": "scattercarpet"
           }
          ],
          "scattergeo": [
           {
            "marker": {
             "colorbar": {
              "outlinewidth": 0,
              "ticks": ""
             }
            },
            "type": "scattergeo"
           }
          ],
          "scattergl": [
           {
            "marker": {
             "colorbar": {
              "outlinewidth": 0,
              "ticks": ""
             }
            },
            "type": "scattergl"
           }
          ],
          "scattermapbox": [
           {
            "marker": {
             "colorbar": {
              "outlinewidth": 0,
              "ticks": ""
             }
            },
            "type": "scattermapbox"
           }
          ],
          "scatterpolar": [
           {
            "marker": {
             "colorbar": {
              "outlinewidth": 0,
              "ticks": ""
             }
            },
            "type": "scatterpolar"
           }
          ],
          "scatterpolargl": [
           {
            "marker": {
             "colorbar": {
              "outlinewidth": 0,
              "ticks": ""
             }
            },
            "type": "scatterpolargl"
           }
          ],
          "scatterternary": [
           {
            "marker": {
             "colorbar": {
              "outlinewidth": 0,
              "ticks": ""
             }
            },
            "type": "scatterternary"
           }
          ],
          "surface": [
           {
            "colorbar": {
             "outlinewidth": 0,
             "ticks": ""
            },
            "colorscale": [
             [
              0,
              "#0d0887"
             ],
             [
              0.1111111111111111,
              "#46039f"
             ],
             [
              0.2222222222222222,
              "#7201a8"
             ],
             [
              0.3333333333333333,
              "#9c179e"
             ],
             [
              0.4444444444444444,
              "#bd3786"
             ],
             [
              0.5555555555555556,
              "#d8576b"
             ],
             [
              0.6666666666666666,
              "#ed7953"
             ],
             [
              0.7777777777777778,
              "#fb9f3a"
             ],
             [
              0.8888888888888888,
              "#fdca26"
             ],
             [
              1,
              "#f0f921"
             ]
            ],
            "type": "surface"
           }
          ],
          "table": [
           {
            "cells": {
             "fill": {
              "color": "#EBF0F8"
             },
             "line": {
              "color": "white"
             }
            },
            "header": {
             "fill": {
              "color": "#C8D4E3"
             },
             "line": {
              "color": "white"
             }
            },
            "type": "table"
           }
          ]
         },
         "layout": {
          "annotationdefaults": {
           "arrowcolor": "#2a3f5f",
           "arrowhead": 0,
           "arrowwidth": 1
          },
          "autotypenumbers": "strict",
          "coloraxis": {
           "colorbar": {
            "outlinewidth": 0,
            "ticks": ""
           }
          },
          "colorscale": {
           "diverging": [
            [
             0,
             "#8e0152"
            ],
            [
             0.1,
             "#c51b7d"
            ],
            [
             0.2,
             "#de77ae"
            ],
            [
             0.3,
             "#f1b6da"
            ],
            [
             0.4,
             "#fde0ef"
            ],
            [
             0.5,
             "#f7f7f7"
            ],
            [
             0.6,
             "#e6f5d0"
            ],
            [
             0.7,
             "#b8e186"
            ],
            [
             0.8,
             "#7fbc41"
            ],
            [
             0.9,
             "#4d9221"
            ],
            [
             1,
             "#276419"
            ]
           ],
           "sequential": [
            [
             0,
             "#0d0887"
            ],
            [
             0.1111111111111111,
             "#46039f"
            ],
            [
             0.2222222222222222,
             "#7201a8"
            ],
            [
             0.3333333333333333,
             "#9c179e"
            ],
            [
             0.4444444444444444,
             "#bd3786"
            ],
            [
             0.5555555555555556,
             "#d8576b"
            ],
            [
             0.6666666666666666,
             "#ed7953"
            ],
            [
             0.7777777777777778,
             "#fb9f3a"
            ],
            [
             0.8888888888888888,
             "#fdca26"
            ],
            [
             1,
             "#f0f921"
            ]
           ],
           "sequentialminus": [
            [
             0,
             "#0d0887"
            ],
            [
             0.1111111111111111,
             "#46039f"
            ],
            [
             0.2222222222222222,
             "#7201a8"
            ],
            [
             0.3333333333333333,
             "#9c179e"
            ],
            [
             0.4444444444444444,
             "#bd3786"
            ],
            [
             0.5555555555555556,
             "#d8576b"
            ],
            [
             0.6666666666666666,
             "#ed7953"
            ],
            [
             0.7777777777777778,
             "#fb9f3a"
            ],
            [
             0.8888888888888888,
             "#fdca26"
            ],
            [
             1,
             "#f0f921"
            ]
           ]
          },
          "colorway": [
           "#636efa",
           "#EF553B",
           "#00cc96",
           "#ab63fa",
           "#FFA15A",
           "#19d3f3",
           "#FF6692",
           "#B6E880",
           "#FF97FF",
           "#FECB52"
          ],
          "font": {
           "color": "#2a3f5f"
          },
          "geo": {
           "bgcolor": "white",
           "lakecolor": "white",
           "landcolor": "#E5ECF6",
           "showlakes": true,
           "showland": true,
           "subunitcolor": "white"
          },
          "hoverlabel": {
           "align": "left"
          },
          "hovermode": "closest",
          "mapbox": {
           "style": "light"
          },
          "paper_bgcolor": "white",
          "plot_bgcolor": "#E5ECF6",
          "polar": {
           "angularaxis": {
            "gridcolor": "white",
            "linecolor": "white",
            "ticks": ""
           },
           "bgcolor": "#E5ECF6",
           "radialaxis": {
            "gridcolor": "white",
            "linecolor": "white",
            "ticks": ""
           }
          },
          "scene": {
           "xaxis": {
            "backgroundcolor": "#E5ECF6",
            "gridcolor": "white",
            "gridwidth": 2,
            "linecolor": "white",
            "showbackground": true,
            "ticks": "",
            "zerolinecolor": "white"
           },
           "yaxis": {
            "backgroundcolor": "#E5ECF6",
            "gridcolor": "white",
            "gridwidth": 2,
            "linecolor": "white",
            "showbackground": true,
            "ticks": "",
            "zerolinecolor": "white"
           },
           "zaxis": {
            "backgroundcolor": "#E5ECF6",
            "gridcolor": "white",
            "gridwidth": 2,
            "linecolor": "white",
            "showbackground": true,
            "ticks": "",
            "zerolinecolor": "white"
           }
          },
          "shapedefaults": {
           "line": {
            "color": "#2a3f5f"
           }
          },
          "ternary": {
           "aaxis": {
            "gridcolor": "white",
            "linecolor": "white",
            "ticks": ""
           },
           "baxis": {
            "gridcolor": "white",
            "linecolor": "white",
            "ticks": ""
           },
           "bgcolor": "#E5ECF6",
           "caxis": {
            "gridcolor": "white",
            "linecolor": "white",
            "ticks": ""
           }
          },
          "title": {
           "x": 0.05
          },
          "xaxis": {
           "automargin": true,
           "gridcolor": "white",
           "linecolor": "white",
           "ticks": "",
           "title": {
            "standoff": 15
           },
           "zerolinecolor": "white",
           "zerolinewidth": 2
          },
          "yaxis": {
           "automargin": true,
           "gridcolor": "white",
           "linecolor": "white",
           "ticks": "",
           "title": {
            "standoff": 15
           },
           "zerolinecolor": "white",
           "zerolinewidth": 2
          }
         }
        },
        "xaxis": {
         "anchor": "y",
         "domain": [
          0,
          1
         ],
         "title": {
          "text": "index"
         }
        },
        "yaxis": {
         "anchor": "x",
         "domain": [
          0,
          1
         ],
         "title": {
          "text": "value"
         }
        }
       }
      }
     },
     "metadata": {},
     "output_type": "display_data"
    }
   ],
   "source": [
    "# analisis null value\n",
    "df_irregularities.isna().sum().plot(kind='bar')"
   ]
  },
  {
   "cell_type": "code",
   "execution_count": 22,
   "metadata": {},
   "outputs": [
    {
     "data": {
      "text/html": [
       "<div>\n",
       "<style scoped>\n",
       "    .dataframe tbody tr th:only-of-type {\n",
       "        vertical-align: middle;\n",
       "    }\n",
       "\n",
       "    .dataframe tbody tr th {\n",
       "        vertical-align: top;\n",
       "    }\n",
       "\n",
       "    .dataframe thead th {\n",
       "        text-align: right;\n",
       "    }\n",
       "</style>\n",
       "<table border=\"1\" class=\"dataframe\">\n",
       "  <thead>\n",
       "    <tr style=\"text-align: right;\">\n",
       "      <th></th>\n",
       "      <th>kemendagri_kabupaten_kode</th>\n",
       "      <th>jam_level</th>\n",
       "      <th>median_length</th>\n",
       "      <th>median_delay_seconds</th>\n",
       "      <th>median_regular_speed</th>\n",
       "      <th>total_records</th>\n",
       "      <th>cause_type</th>\n",
       "      <th>median_seconds</th>\n",
       "      <th>median_speed</th>\n",
       "      <th>median_jam_level</th>\n",
       "      <th>id</th>\n",
       "    </tr>\n",
       "  </thead>\n",
       "  <tbody>\n",
       "    <tr>\n",
       "      <th>count</th>\n",
       "      <td>8313.00</td>\n",
       "      <td>8313.000000</td>\n",
       "      <td>8313.000000</td>\n",
       "      <td>8313.000000</td>\n",
       "      <td>8313.000000</td>\n",
       "      <td>8313.000000</td>\n",
       "      <td>0.0</td>\n",
       "      <td>8313.000000</td>\n",
       "      <td>8313.000000</td>\n",
       "      <td>8313.000000</td>\n",
       "      <td>8.313000e+03</td>\n",
       "    </tr>\n",
       "    <tr>\n",
       "      <th>mean</th>\n",
       "      <td>32.76</td>\n",
       "      <td>3.466619</td>\n",
       "      <td>1398.474859</td>\n",
       "      <td>587.670877</td>\n",
       "      <td>17.814625</td>\n",
       "      <td>15.019367</td>\n",
       "      <td>NaN</td>\n",
       "      <td>735.419584</td>\n",
       "      <td>7.379200</td>\n",
       "      <td>3.466619</td>\n",
       "      <td>1.542598e+06</td>\n",
       "    </tr>\n",
       "    <tr>\n",
       "      <th>std</th>\n",
       "      <td>0.00</td>\n",
       "      <td>0.635320</td>\n",
       "      <td>1090.256454</td>\n",
       "      <td>301.120398</td>\n",
       "      <td>10.433042</td>\n",
       "      <td>15.318357</td>\n",
       "      <td>NaN</td>\n",
       "      <td>333.036230</td>\n",
       "      <td>4.849193</td>\n",
       "      <td>0.635320</td>\n",
       "      <td>2.585485e+04</td>\n",
       "    </tr>\n",
       "    <tr>\n",
       "      <th>min</th>\n",
       "      <td>32.76</td>\n",
       "      <td>1.000000</td>\n",
       "      <td>500.000000</td>\n",
       "      <td>77.000000</td>\n",
       "      <td>3.380000</td>\n",
       "      <td>1.000000</td>\n",
       "      <td>NaN</td>\n",
       "      <td>131.000000</td>\n",
       "      <td>0.550000</td>\n",
       "      <td>1.000000</td>\n",
       "      <td>1.493441e+06</td>\n",
       "    </tr>\n",
       "    <tr>\n",
       "      <th>25%</th>\n",
       "      <td>32.76</td>\n",
       "      <td>3.000000</td>\n",
       "      <td>759.000000</td>\n",
       "      <td>393.000000</td>\n",
       "      <td>12.180000</td>\n",
       "      <td>4.000000</td>\n",
       "      <td>NaN</td>\n",
       "      <td>519.000000</td>\n",
       "      <td>4.590000</td>\n",
       "      <td>3.000000</td>\n",
       "      <td>1.520158e+06</td>\n",
       "    </tr>\n",
       "    <tr>\n",
       "      <th>50%</th>\n",
       "      <td>32.76</td>\n",
       "      <td>4.000000</td>\n",
       "      <td>1166.000000</td>\n",
       "      <td>548.000000</td>\n",
       "      <td>16.190000</td>\n",
       "      <td>10.000000</td>\n",
       "      <td>NaN</td>\n",
       "      <td>686.000000</td>\n",
       "      <td>6.315000</td>\n",
       "      <td>4.000000</td>\n",
       "      <td>1.545023e+06</td>\n",
       "    </tr>\n",
       "    <tr>\n",
       "      <th>75%</th>\n",
       "      <td>32.76</td>\n",
       "      <td>4.000000</td>\n",
       "      <td>1711.000000</td>\n",
       "      <td>727.000000</td>\n",
       "      <td>20.280000</td>\n",
       "      <td>21.000000</td>\n",
       "      <td>NaN</td>\n",
       "      <td>896.500000</td>\n",
       "      <td>8.880000</td>\n",
       "      <td>4.000000</td>\n",
       "      <td>1.564390e+06</td>\n",
       "    </tr>\n",
       "    <tr>\n",
       "      <th>max</th>\n",
       "      <td>32.76</td>\n",
       "      <td>4.000000</td>\n",
       "      <td>18376.000000</td>\n",
       "      <td>3901.000000</td>\n",
       "      <td>97.910000</td>\n",
       "      <td>185.000000</td>\n",
       "      <td>NaN</td>\n",
       "      <td>4395.000000</td>\n",
       "      <td>62.630000</td>\n",
       "      <td>4.000000</td>\n",
       "      <td>1.583858e+06</td>\n",
       "    </tr>\n",
       "  </tbody>\n",
       "</table>\n",
       "</div>"
      ],
      "text/plain": [
       "       kemendagri_kabupaten_kode    jam_level  median_length  \\\n",
       "count                    8313.00  8313.000000    8313.000000   \n",
       "mean                       32.76     3.466619    1398.474859   \n",
       "std                         0.00     0.635320    1090.256454   \n",
       "min                        32.76     1.000000     500.000000   \n",
       "25%                        32.76     3.000000     759.000000   \n",
       "50%                        32.76     4.000000    1166.000000   \n",
       "75%                        32.76     4.000000    1711.000000   \n",
       "max                        32.76     4.000000   18376.000000   \n",
       "\n",
       "       median_delay_seconds  median_regular_speed  total_records  cause_type  \\\n",
       "count           8313.000000           8313.000000    8313.000000         0.0   \n",
       "mean             587.670877             17.814625      15.019367         NaN   \n",
       "std              301.120398             10.433042      15.318357         NaN   \n",
       "min               77.000000              3.380000       1.000000         NaN   \n",
       "25%              393.000000             12.180000       4.000000         NaN   \n",
       "50%              548.000000             16.190000      10.000000         NaN   \n",
       "75%              727.000000             20.280000      21.000000         NaN   \n",
       "max             3901.000000             97.910000     185.000000         NaN   \n",
       "\n",
       "       median_seconds  median_speed  median_jam_level            id  \n",
       "count     8313.000000   8313.000000       8313.000000  8.313000e+03  \n",
       "mean       735.419584      7.379200          3.466619  1.542598e+06  \n",
       "std        333.036230      4.849193          0.635320  2.585485e+04  \n",
       "min        131.000000      0.550000          1.000000  1.493441e+06  \n",
       "25%        519.000000      4.590000          3.000000  1.520158e+06  \n",
       "50%        686.000000      6.315000          4.000000  1.545023e+06  \n",
       "75%        896.500000      8.880000          4.000000  1.564390e+06  \n",
       "max       4395.000000     62.630000          4.000000  1.583858e+06  "
      ]
     },
     "execution_count": 22,
     "metadata": {},
     "output_type": "execute_result"
    }
   ],
   "source": [
    "# analisis statistik\n",
    "df_irregularities.describe()"
   ]
  },
  {
   "cell_type": "code",
   "execution_count": 23,
   "metadata": {},
   "outputs": [
    {
     "name": "stdout",
     "output_type": "stream",
     "text": [
      "<class 'pandas.core.frame.DataFrame'>\n",
      "RangeIndex: 8313 entries, 0 to 8312\n",
      "Data columns (total 16 columns):\n",
      " #   Column                     Non-Null Count  Dtype  \n",
      "---  ------                     --------------  -----  \n",
      " 0   time                       8313 non-null   object \n",
      " 1   kemendagri_kabupaten_kode  8313 non-null   float64\n",
      " 2   kemendagri_kabupaten_nama  8313 non-null   object \n",
      " 3   street                     8269 non-null   object \n",
      " 4   jam_level                  8313 non-null   int64  \n",
      " 5   median_length              8313 non-null   float64\n",
      " 6   median_delay_seconds       8313 non-null   float64\n",
      " 7   median_regular_speed       8313 non-null   float64\n",
      " 8   total_records              8313 non-null   int64  \n",
      " 9   cause_type                 0 non-null      float64\n",
      " 10  median_seconds             8313 non-null   float64\n",
      " 11  median_speed               8313 non-null   float64\n",
      " 12  date                       8313 non-null   object \n",
      " 13  median_jam_level           8313 non-null   float64\n",
      " 14  id                         8313 non-null   int64  \n",
      " 15  geometry                   8313 non-null   object \n",
      "dtypes: float64(8), int64(3), object(5)\n",
      "memory usage: 1.0+ MB\n",
      "None\n"
     ]
    },
    {
     "data": {
      "text/plain": [
       "array([3., 4., 2., 1.])"
      ]
     },
     "execution_count": 23,
     "metadata": {},
     "output_type": "execute_result"
    }
   ],
   "source": [
    "# analisis kolom\n",
    "print(df_irregularities.info())\n",
    "df_irregularities['median_jam_level'].unique()"
   ]
  },
  {
   "cell_type": "code",
   "execution_count": 24,
   "metadata": {},
   "outputs": [
    {
     "name": "stdout",
     "output_type": "stream",
     "text": [
      "0 N8 Jalan Raya Bogor\n",
      "1 Margonda Raya\n",
      "2 Sawangan Raya\n"
     ]
    }
   ],
   "source": [
    "# no null, all row are ok\n",
    "for i, street in enumerate(['N8 Jalan Raya Bogor', 'Margonda Raya', 'Sawangan Raya']):\n",
    "  print(i, street)\n",
    "  df_irr_sample = df_irregularities.loc[(df_irregularities['street'] == street)]\n",
    "  df_irr_sample = df_irr_sample.drop(['id', 'kemendagri_kabupaten_kode', 'kemendagri_kabupaten_nama', 'street'\n",
    "  , 'jam_level', 'total_records', 'cause_type', 'date', 'id', 'geometry'], axis=1)\n",
    "  df_irr_sample['time'] = pd.to_datetime(df_irr_sample['time'])\n",
    "  # df_irr_agg = df_irr_sample.groupby(pd.Grouper(key=\"time\", freq='1H')).mean()\n",
    "  df_irr_sample.to_csv(r'Clean\\sample_irr_{}.csv'.format(i))"
   ]
  },
  {
   "cell_type": "code",
   "execution_count": 105,
   "metadata": {},
   "outputs": [
    {
     "data": {
      "text/plain": [
       "<BarContainer object of 10 artists>"
      ]
     },
     "execution_count": 105,
     "metadata": {},
     "output_type": "execute_result"
    },
    {
     "data": {
      "image/png": "[encoded data removed]",
      "text/plain": [
       "<Figure size 640x480 with 1 Axes>"
      ]
     },
     "metadata": {},
     "output_type": "display_data"
    }
   ],
   "source": [
    "plt.xticks(rotation=45)\n",
    "plt.bar(df_irregularities[\"street\"].value_counts().head(10).index, df_irregularities[\"street\"].value_counts().head(10).values)"
   ]
  },
  {
   "attachments": {},
   "cell_type": "markdown",
   "metadata": {},
   "source": [
    "#   Penyatuan Kolom dan Penghilangan Nilai NaN"
   ]
  },
  {
   "attachments": {},
   "cell_type": "markdown",
   "metadata": {},
   "source": [
    "## jalan 0"
   ]
  },
  {
   "cell_type": "code",
   "execution_count": 25,
   "metadata": {},
   "outputs": [
    {
     "data": {
      "text/plain": [
       "time                  0\n",
       "median_length       308\n",
       "median_delay        308\n",
       "median_speed_kmh    308\n",
       "median_level        308\n",
       "dtype: int64"
      ]
     },
     "execution_count": 25,
     "metadata": {},
     "output_type": "execute_result"
    }
   ],
   "source": [
    "df_sample_jams = pd.read_csv(r'Clean\\sample_jams_0.csv')\n",
    "df_sample_jams.isnull().sum()"
   ]
  },
  {
   "cell_type": "code",
   "execution_count": 26,
   "metadata": {},
   "outputs": [
    {
     "name": "stdout",
     "output_type": "stream",
     "text": [
      "jam 0, null value: 41/61\n",
      "jam 1, null value: 51/61\n",
      "jam 2, null value: 50/61\n",
      "jam 3, null value: 54/61\n",
      "jam 4, null value: 50/61\n",
      "jam 5, null value: 15/61\n",
      "jam 6, null value: 8/61\n",
      "jam 7, null value: 2/61\n",
      "jam 8, null value: 2/61\n",
      "jam 9, null value: 1/61\n",
      "jam 10, null value: 1/61\n",
      "jam 11, null value: 1/61\n",
      "jam 12, null value: 1/61\n",
      "jam 13, null value: 1/61\n",
      "jam 14, null value: 3/61\n",
      "jam 15, null value: 1/61\n",
      "jam 16, null value: 1/61\n",
      "jam 17, null value: 1/61\n",
      "jam 18, null value: 1/61\n",
      "jam 19, null value: 1/61\n",
      "jam 20, null value: 1/61\n",
      "jam 21, null value: 1/61\n",
      "jam 22, null value: 2/61\n",
      "jam 23, null value: 18/60\n",
      "total:  308\n"
     ]
    }
   ],
   "source": [
    "df_sample_jams = pd.read_csv(r'Clean\\sample_jams_0.csv')\n",
    "# df_sample_jams.isnull().sum()\n",
    "df_sample_jams['time'] = pd.to_datetime(df_sample_jams['time'])\n",
    "df_sample_jams = df_sample_jams.set_index('time')\n",
    "total = 0\n",
    "for i in range(0, 24):\n",
    "  total_row = len(df_sample_jams[df_sample_jams.index.hour == i])\n",
    "  null_value = df_sample_jams[df_sample_jams.index.hour == i].isna().sum()[1]\n",
    "  total += null_value\n",
    "  print(f\"jam {i}, null value: {null_value}/{total_row}\")\n",
    "print('total: ', total)"
   ]
  },
  {
   "cell_type": "code",
   "execution_count": 27,
   "metadata": {},
   "outputs": [
    {
     "name": "stdout",
     "output_type": "stream",
     "text": [
      "426 data cleaned\n"
     ]
    }
   ],
   "source": [
    "def clean_df(df_jams_agg):\n",
    "  list_index = []\n",
    "  for i in [0, 1, 2, 3, 4, 5, 23]:\n",
    "    list_index.extend(df_jams_agg[df_jams_agg.index.hour == i].index)\n",
    "  print(str(len(list_index))+' data cleaned')\n",
    "  df_jams_agg_clean = df_jams_agg.drop(list_index)\n",
    "  for i in [6,7,8,20,21,22]:\n",
    "    df_null = df_jams_agg_clean[df_jams_agg_clean.index.hour == i]\n",
    "    replaced_index = df_null[df_null.median_length.isnull()].index\n",
    "    median_values = []\n",
    "    for col in df_null.columns:\n",
    "      if col == 'median_level':\n",
    "        median_values.append(round(df_null[col].mean(), 0))\n",
    "        continue\n",
    "      median_values.append(df_null[col].median())\n",
    "    for idx in replaced_index:\n",
    "      for col_idx, col_name in enumerate(df_null.columns):\n",
    "        df_jams_agg_clean.loc[idx, col_name] = median_values[col_idx]\n",
    "  df_jams_agg_clean['median_level'] = df_jams_agg_clean['median_level'].fillna(0).astype(int)\n",
    "  return df_jams_agg_clean\n",
    "\n",
    "df_jams_agg_clean = clean_df(df_sample_jams)\n",
    "df_jams_agg_clean\n",
    "df_jams_agg_clean.to_csv(r'Clean\\sample_jams_cleaned_0.csv')"
   ]
  },
  {
   "attachments": {},
   "cell_type": "markdown",
   "metadata": {},
   "source": [
    "## jalan 1"
   ]
  },
  {
   "cell_type": "code",
   "execution_count": 28,
   "metadata": {},
   "outputs": [
    {
     "data": {
      "text/plain": [
       "time                  0\n",
       "median_length       287\n",
       "median_delay        287\n",
       "median_speed_kmh    287\n",
       "median_level        287\n",
       "dtype: int64"
      ]
     },
     "execution_count": 28,
     "metadata": {},
     "output_type": "execute_result"
    }
   ],
   "source": [
    "df_sample_jams = pd.read_csv(r'Clean\\sample_jams_1.csv')\n",
    "df_sample_jams.isnull().sum()"
   ]
  },
  {
   "cell_type": "code",
   "execution_count": 29,
   "metadata": {},
   "outputs": [
    {
     "data": {
      "text/html": [
       "<div>\n",
       "<style scoped>\n",
       "    .dataframe tbody tr th:only-of-type {\n",
       "        vertical-align: middle;\n",
       "    }\n",
       "\n",
       "    .dataframe tbody tr th {\n",
       "        vertical-align: top;\n",
       "    }\n",
       "\n",
       "    .dataframe thead th {\n",
       "        text-align: right;\n",
       "    }\n",
       "</style>\n",
       "<table border=\"1\" class=\"dataframe\">\n",
       "  <thead>\n",
       "    <tr style=\"text-align: right;\">\n",
       "      <th></th>\n",
       "      <th>time</th>\n",
       "      <th>median_length</th>\n",
       "      <th>median_delay</th>\n",
       "      <th>median_speed_kmh</th>\n",
       "      <th>median_level</th>\n",
       "    </tr>\n",
       "  </thead>\n",
       "  <tbody>\n",
       "    <tr>\n",
       "      <th>0</th>\n",
       "      <td>2022-07-06 00:00:00</td>\n",
       "      <td>1344.00</td>\n",
       "      <td>67.000000</td>\n",
       "      <td>28.430000</td>\n",
       "      <td>1.0</td>\n",
       "    </tr>\n",
       "    <tr>\n",
       "      <th>1</th>\n",
       "      <td>2022-07-06 01:00:00</td>\n",
       "      <td>NaN</td>\n",
       "      <td>NaN</td>\n",
       "      <td>NaN</td>\n",
       "      <td>NaN</td>\n",
       "    </tr>\n",
       "    <tr>\n",
       "      <th>2</th>\n",
       "      <td>2022-07-06 02:00:00</td>\n",
       "      <td>NaN</td>\n",
       "      <td>NaN</td>\n",
       "      <td>NaN</td>\n",
       "      <td>NaN</td>\n",
       "    </tr>\n",
       "    <tr>\n",
       "      <th>3</th>\n",
       "      <td>2022-07-06 03:00:00</td>\n",
       "      <td>955.00</td>\n",
       "      <td>89.000000</td>\n",
       "      <td>21.915000</td>\n",
       "      <td>2.0</td>\n",
       "    </tr>\n",
       "    <tr>\n",
       "      <th>4</th>\n",
       "      <td>2022-07-06 04:00:00</td>\n",
       "      <td>1100.00</td>\n",
       "      <td>76.250000</td>\n",
       "      <td>25.905000</td>\n",
       "      <td>2.0</td>\n",
       "    </tr>\n",
       "    <tr>\n",
       "      <th>5</th>\n",
       "      <td>2022-07-06 05:00:00</td>\n",
       "      <td>876.50</td>\n",
       "      <td>76.750000</td>\n",
       "      <td>21.627501</td>\n",
       "      <td>2.0</td>\n",
       "    </tr>\n",
       "    <tr>\n",
       "      <th>6</th>\n",
       "      <td>2022-07-06 06:00:00</td>\n",
       "      <td>1535.00</td>\n",
       "      <td>87.000000</td>\n",
       "      <td>28.180000</td>\n",
       "      <td>2.0</td>\n",
       "    </tr>\n",
       "    <tr>\n",
       "      <th>7</th>\n",
       "      <td>2022-07-06 07:00:00</td>\n",
       "      <td>1221.00</td>\n",
       "      <td>123.375000</td>\n",
       "      <td>20.907500</td>\n",
       "      <td>2.0</td>\n",
       "    </tr>\n",
       "    <tr>\n",
       "      <th>8</th>\n",
       "      <td>2022-07-06 08:00:00</td>\n",
       "      <td>1159.00</td>\n",
       "      <td>88.666667</td>\n",
       "      <td>23.260000</td>\n",
       "      <td>2.0</td>\n",
       "    </tr>\n",
       "    <tr>\n",
       "      <th>9</th>\n",
       "      <td>2022-07-06 09:00:00</td>\n",
       "      <td>1377.75</td>\n",
       "      <td>191.375000</td>\n",
       "      <td>18.935000</td>\n",
       "      <td>2.0</td>\n",
       "    </tr>\n",
       "    <tr>\n",
       "      <th>10</th>\n",
       "      <td>2022-07-06 10:00:00</td>\n",
       "      <td>1229.50</td>\n",
       "      <td>180.875000</td>\n",
       "      <td>19.972500</td>\n",
       "      <td>2.0</td>\n",
       "    </tr>\n",
       "    <tr>\n",
       "      <th>11</th>\n",
       "      <td>2022-07-06 11:00:00</td>\n",
       "      <td>1174.00</td>\n",
       "      <td>108.666667</td>\n",
       "      <td>24.620000</td>\n",
       "      <td>2.0</td>\n",
       "    </tr>\n",
       "    <tr>\n",
       "      <th>12</th>\n",
       "      <td>2022-07-06 12:00:00</td>\n",
       "      <td>1260.00</td>\n",
       "      <td>142.166667</td>\n",
       "      <td>23.010000</td>\n",
       "      <td>2.0</td>\n",
       "    </tr>\n",
       "    <tr>\n",
       "      <th>13</th>\n",
       "      <td>2022-07-06 13:00:00</td>\n",
       "      <td>1438.00</td>\n",
       "      <td>118.500000</td>\n",
       "      <td>26.010000</td>\n",
       "      <td>2.0</td>\n",
       "    </tr>\n",
       "    <tr>\n",
       "      <th>14</th>\n",
       "      <td>2022-07-06 14:00:00</td>\n",
       "      <td>1224.00</td>\n",
       "      <td>101.000000</td>\n",
       "      <td>25.790000</td>\n",
       "      <td>2.0</td>\n",
       "    </tr>\n",
       "    <tr>\n",
       "      <th>15</th>\n",
       "      <td>2022-07-06 15:00:00</td>\n",
       "      <td>1564.00</td>\n",
       "      <td>119.333333</td>\n",
       "      <td>24.460000</td>\n",
       "      <td>2.0</td>\n",
       "    </tr>\n",
       "    <tr>\n",
       "      <th>16</th>\n",
       "      <td>2022-07-06 16:00:00</td>\n",
       "      <td>1489.00</td>\n",
       "      <td>135.000000</td>\n",
       "      <td>24.160000</td>\n",
       "      <td>2.0</td>\n",
       "    </tr>\n",
       "    <tr>\n",
       "      <th>17</th>\n",
       "      <td>2022-07-06 17:00:00</td>\n",
       "      <td>1447.00</td>\n",
       "      <td>273.750000</td>\n",
       "      <td>18.225000</td>\n",
       "      <td>2.0</td>\n",
       "    </tr>\n",
       "    <tr>\n",
       "      <th>18</th>\n",
       "      <td>2022-07-06 18:00:00</td>\n",
       "      <td>1769.50</td>\n",
       "      <td>273.750000</td>\n",
       "      <td>17.735000</td>\n",
       "      <td>2.0</td>\n",
       "    </tr>\n",
       "    <tr>\n",
       "      <th>19</th>\n",
       "      <td>2022-07-06 19:00:00</td>\n",
       "      <td>1565.00</td>\n",
       "      <td>293.500000</td>\n",
       "      <td>18.415000</td>\n",
       "      <td>2.0</td>\n",
       "    </tr>\n",
       "    <tr>\n",
       "      <th>20</th>\n",
       "      <td>2022-07-06 20:00:00</td>\n",
       "      <td>1531.50</td>\n",
       "      <td>236.750000</td>\n",
       "      <td>18.525000</td>\n",
       "      <td>2.0</td>\n",
       "    </tr>\n",
       "    <tr>\n",
       "      <th>21</th>\n",
       "      <td>2022-07-06 21:00:00</td>\n",
       "      <td>1478.00</td>\n",
       "      <td>108.833333</td>\n",
       "      <td>23.224998</td>\n",
       "      <td>2.0</td>\n",
       "    </tr>\n",
       "    <tr>\n",
       "      <th>22</th>\n",
       "      <td>2022-07-06 22:00:00</td>\n",
       "      <td>979.00</td>\n",
       "      <td>83.333333</td>\n",
       "      <td>22.070000</td>\n",
       "      <td>2.0</td>\n",
       "    </tr>\n",
       "    <tr>\n",
       "      <th>23</th>\n",
       "      <td>2022-07-06 23:00:00</td>\n",
       "      <td>784.00</td>\n",
       "      <td>101.000000</td>\n",
       "      <td>16.170000</td>\n",
       "      <td>3.0</td>\n",
       "    </tr>\n",
       "    <tr>\n",
       "      <th>24</th>\n",
       "      <td>2022-07-07 00:00:00</td>\n",
       "      <td>NaN</td>\n",
       "      <td>NaN</td>\n",
       "      <td>NaN</td>\n",
       "      <td>NaN</td>\n",
       "    </tr>\n",
       "    <tr>\n",
       "      <th>25</th>\n",
       "      <td>2022-07-07 01:00:00</td>\n",
       "      <td>1209.00</td>\n",
       "      <td>90.333333</td>\n",
       "      <td>22.170000</td>\n",
       "      <td>2.0</td>\n",
       "    </tr>\n",
       "    <tr>\n",
       "      <th>26</th>\n",
       "      <td>2022-07-07 02:00:00</td>\n",
       "      <td>NaN</td>\n",
       "      <td>NaN</td>\n",
       "      <td>NaN</td>\n",
       "      <td>NaN</td>\n",
       "    </tr>\n",
       "    <tr>\n",
       "      <th>27</th>\n",
       "      <td>2022-07-07 03:00:00</td>\n",
       "      <td>NaN</td>\n",
       "      <td>NaN</td>\n",
       "      <td>NaN</td>\n",
       "      <td>NaN</td>\n",
       "    </tr>\n",
       "  </tbody>\n",
       "</table>\n",
       "</div>"
      ],
      "text/plain": [
       "                   time  median_length  median_delay  median_speed_kmh  \\\n",
       "0   2022-07-06 00:00:00        1344.00     67.000000         28.430000   \n",
       "1   2022-07-06 01:00:00            NaN           NaN               NaN   \n",
       "2   2022-07-06 02:00:00            NaN           NaN               NaN   \n",
       "3   2022-07-06 03:00:00         955.00     89.000000         21.915000   \n",
       "4   2022-07-06 04:00:00        1100.00     76.250000         25.905000   \n",
       "5   2022-07-06 05:00:00         876.50     76.750000         21.627501   \n",
       "6   2022-07-06 06:00:00        1535.00     87.000000         28.180000   \n",
       "7   2022-07-06 07:00:00        1221.00    123.375000         20.907500   \n",
       "8   2022-07-06 08:00:00        1159.00     88.666667         23.260000   \n",
       "9   2022-07-06 09:00:00        1377.75    191.375000         18.935000   \n",
       "10  2022-07-06 10:00:00        1229.50    180.875000         19.972500   \n",
       "11  2022-07-06 11:00:00        1174.00    108.666667         24.620000   \n",
       "12  2022-07-06 12:00:00        1260.00    142.166667         23.010000   \n",
       "13  2022-07-06 13:00:00        1438.00    118.500000         26.010000   \n",
       "14  2022-07-06 14:00:00        1224.00    101.000000         25.790000   \n",
       "15  2022-07-06 15:00:00        1564.00    119.333333         24.460000   \n",
       "16  2022-07-06 16:00:00        1489.00    135.000000         24.160000   \n",
       "17  2022-07-06 17:00:00        1447.00    273.750000         18.225000   \n",
       "18  2022-07-06 18:00:00        1769.50    273.750000         17.735000   \n",
       "19  2022-07-06 19:00:00        1565.00    293.500000         18.415000   \n",
       "20  2022-07-06 20:00:00        1531.50    236.750000         18.525000   \n",
       "21  2022-07-06 21:00:00        1478.00    108.833333         23.224998   \n",
       "22  2022-07-06 22:00:00         979.00     83.333333         22.070000   \n",
       "23  2022-07-06 23:00:00         784.00    101.000000         16.170000   \n",
       "24  2022-07-07 00:00:00            NaN           NaN               NaN   \n",
       "25  2022-07-07 01:00:00        1209.00     90.333333         22.170000   \n",
       "26  2022-07-07 02:00:00            NaN           NaN               NaN   \n",
       "27  2022-07-07 03:00:00            NaN           NaN               NaN   \n",
       "\n",
       "    median_level  \n",
       "0            1.0  \n",
       "1            NaN  \n",
       "2            NaN  \n",
       "3            2.0  \n",
       "4            2.0  \n",
       "5            2.0  \n",
       "6            2.0  \n",
       "7            2.0  \n",
       "8            2.0  \n",
       "9            2.0  \n",
       "10           2.0  \n",
       "11           2.0  \n",
       "12           2.0  \n",
       "13           2.0  \n",
       "14           2.0  \n",
       "15           2.0  \n",
       "16           2.0  \n",
       "17           2.0  \n",
       "18           2.0  \n",
       "19           2.0  \n",
       "20           2.0  \n",
       "21           2.0  \n",
       "22           2.0  \n",
       "23           3.0  \n",
       "24           NaN  \n",
       "25           2.0  \n",
       "26           NaN  \n",
       "27           NaN  "
      ]
     },
     "execution_count": 29,
     "metadata": {},
     "output_type": "execute_result"
    }
   ],
   "source": [
    "df_sample_jams.head(28)"
   ]
  },
  {
   "cell_type": "code",
   "execution_count": 30,
   "metadata": {},
   "outputs": [
    {
     "name": "stdout",
     "output_type": "stream",
     "text": [
      "jam 0, null value: 30/63\n",
      "jam 1, null value: 40/62\n",
      "jam 2, null value: 49/62\n",
      "jam 3, null value: 44/62\n",
      "jam 4, null value: 43/62\n",
      "jam 5, null value: 15/62\n",
      "jam 6, null value: 11/62\n",
      "jam 7, null value: 6/62\n",
      "jam 8, null value: 6/62\n",
      "jam 9, null value: 2/62\n",
      "jam 10, null value: 2/62\n",
      "jam 11, null value: 2/62\n",
      "jam 12, null value: 2/62\n",
      "jam 13, null value: 2/62\n",
      "jam 14, null value: 2/62\n",
      "jam 15, null value: 2/62\n",
      "jam 16, null value: 2/62\n",
      "jam 17, null value: 2/62\n",
      "jam 18, null value: 2/62\n",
      "jam 19, null value: 2/62\n",
      "jam 20, null value: 2/62\n",
      "jam 21, null value: 2/62\n",
      "jam 22, null value: 6/62\n",
      "jam 23, null value: 11/62\n",
      "total:  287\n"
     ]
    }
   ],
   "source": [
    "df_sample_jams = pd.read_csv(r'Clean\\sample_jams_1.csv')\n",
    "# df_sample_jams.isnull().sum()\n",
    "df_sample_jams['time'] = pd.to_datetime(df_sample_jams['time'])\n",
    "df_sample_jams = df_sample_jams.set_index('time')\n",
    "total = 0\n",
    "for i in range(0, 24):\n",
    "  total_row = len(df_sample_jams[df_sample_jams.index.hour == i])\n",
    "  null_value = df_sample_jams[df_sample_jams.index.hour == i].isna().sum()[1]\n",
    "  total += null_value\n",
    "  print(f\"jam {i}, null value: {null_value}/{total_row}\")\n",
    "print('total: ', total)"
   ]
  },
  {
   "cell_type": "code",
   "execution_count": 31,
   "metadata": {},
   "outputs": [
    {
     "data": {
      "text/html": [
       "<div>\n",
       "<style scoped>\n",
       "    .dataframe tbody tr th:only-of-type {\n",
       "        vertical-align: middle;\n",
       "    }\n",
       "\n",
       "    .dataframe tbody tr th {\n",
       "        vertical-align: top;\n",
       "    }\n",
       "\n",
       "    .dataframe thead th {\n",
       "        text-align: right;\n",
       "    }\n",
       "</style>\n",
       "<table border=\"1\" class=\"dataframe\">\n",
       "  <thead>\n",
       "    <tr style=\"text-align: right;\">\n",
       "      <th></th>\n",
       "      <th>median_length</th>\n",
       "      <th>median_delay</th>\n",
       "      <th>median_speed_kmh</th>\n",
       "      <th>median_level</th>\n",
       "    </tr>\n",
       "    <tr>\n",
       "      <th>time</th>\n",
       "      <th></th>\n",
       "      <th></th>\n",
       "      <th></th>\n",
       "      <th></th>\n",
       "    </tr>\n",
       "  </thead>\n",
       "  <tbody>\n",
       "    <tr>\n",
       "      <th>2022-09-04 19:00:00</th>\n",
       "      <td>1760.0</td>\n",
       "      <td>137.333333</td>\n",
       "      <td>24.380</td>\n",
       "      <td>2.0</td>\n",
       "    </tr>\n",
       "    <tr>\n",
       "      <th>2022-09-04 20:00:00</th>\n",
       "      <td>1760.0</td>\n",
       "      <td>125.166667</td>\n",
       "      <td>26.020</td>\n",
       "      <td>2.0</td>\n",
       "    </tr>\n",
       "    <tr>\n",
       "      <th>2022-09-04 21:00:00</th>\n",
       "      <td>1335.0</td>\n",
       "      <td>87.333333</td>\n",
       "      <td>24.370</td>\n",
       "      <td>2.0</td>\n",
       "    </tr>\n",
       "    <tr>\n",
       "      <th>2022-09-04 22:00:00</th>\n",
       "      <td>787.0</td>\n",
       "      <td>63.333333</td>\n",
       "      <td>18.235</td>\n",
       "      <td>2.0</td>\n",
       "    </tr>\n",
       "    <tr>\n",
       "      <th>2022-09-04 23:00:00</th>\n",
       "      <td>1313.0</td>\n",
       "      <td>68.500000</td>\n",
       "      <td>27.210</td>\n",
       "      <td>2.0</td>\n",
       "    </tr>\n",
       "  </tbody>\n",
       "</table>\n",
       "</div>"
      ],
      "text/plain": [
       "                     median_length  median_delay  median_speed_kmh  \\\n",
       "time                                                                 \n",
       "2022-09-04 19:00:00         1760.0    137.333333            24.380   \n",
       "2022-09-04 20:00:00         1760.0    125.166667            26.020   \n",
       "2022-09-04 21:00:00         1335.0     87.333333            24.370   \n",
       "2022-09-04 22:00:00          787.0     63.333333            18.235   \n",
       "2022-09-04 23:00:00         1313.0     68.500000            27.210   \n",
       "\n",
       "                     median_level  \n",
       "time                               \n",
       "2022-09-04 19:00:00           2.0  \n",
       "2022-09-04 20:00:00           2.0  \n",
       "2022-09-04 21:00:00           2.0  \n",
       "2022-09-04 22:00:00           2.0  \n",
       "2022-09-04 23:00:00           2.0  "
      ]
     },
     "execution_count": 31,
     "metadata": {},
     "output_type": "execute_result"
    }
   ],
   "source": [
    "df_sample_jams = df_sample_jams.drop(df_sample_jams[df_sample_jams.index.date == datetime.date(2022,9,5)].index)\n",
    "df_sample_jams = df_sample_jams.drop(df_sample_jams[df_sample_jams.index.date == datetime.date(2022,9,6)].index)\n",
    "df_sample_jams.tail()"
   ]
  },
  {
   "cell_type": "code",
   "execution_count": 32,
   "metadata": {},
   "outputs": [
    {
     "name": "stdout",
     "output_type": "stream",
     "text": [
      "427 data cleaned\n"
     ]
    }
   ],
   "source": [
    "def clean_df(df_jams_agg):\n",
    "  list_index = []\n",
    "  for i in [0, 1, 2, 3, 4, 5, 23]:\n",
    "    list_index.extend(df_jams_agg[df_jams_agg.index.hour == i].index)\n",
    "  print(str(len(list_index))+' data cleaned')\n",
    "  df_jams_agg_clean = df_jams_agg.drop(list_index)\n",
    "  for i in [6,7,8,20,21,22]:\n",
    "    df_null = df_jams_agg_clean[df_jams_agg_clean.index.hour == i]\n",
    "    replaced_index = df_null[df_null.median_length.isnull()].index\n",
    "    median_values = []\n",
    "    for col in df_null.columns:\n",
    "      if col == 'median_level':\n",
    "        median_values.append(round(df_null[col].mean(), 0))\n",
    "        continue\n",
    "      median_values.append(df_null[col].median())\n",
    "    for idx in replaced_index:\n",
    "      for col_idx, col_name in enumerate(df_null.columns):\n",
    "        df_jams_agg_clean.loc[idx, col_name] = median_values[col_idx]\n",
    "  df_jams_agg_clean['median_level'] = df_jams_agg_clean['median_level'].fillna(0).astype(int)\n",
    "  return df_jams_agg_clean\n",
    "\n",
    "df_jams_agg_clean = clean_df(df_sample_jams)\n",
    "df_jams_agg_clean\n",
    "df_jams_agg_clean.to_csv(r'Clean\\sample_jams_cleaned_1.csv')"
   ]
  },
  {
   "attachments": {},
   "cell_type": "markdown",
   "metadata": {},
   "source": [
    "## jalan 2"
   ]
  },
  {
   "cell_type": "code",
   "execution_count": 33,
   "metadata": {},
   "outputs": [
    {
     "data": {
      "text/plain": [
       "time                  0\n",
       "median_length       359\n",
       "median_delay        359\n",
       "median_speed_kmh    359\n",
       "median_level        359\n",
       "dtype: int64"
      ]
     },
     "execution_count": 33,
     "metadata": {},
     "output_type": "execute_result"
    }
   ],
   "source": [
    "df_sample_jams = pd.read_csv(r'Clean\\sample_jams_2.csv')\n",
    "df_sample_jams.isnull().sum()"
   ]
  },
  {
   "cell_type": "code",
   "execution_count": 34,
   "metadata": {},
   "outputs": [
    {
     "name": "stdout",
     "output_type": "stream",
     "text": [
      "jam 0, null value: 45/61\n",
      "jam 1, null value: 51/61\n",
      "jam 2, null value: 58/61\n",
      "jam 3, null value: 55/61\n",
      "jam 4, null value: 57/61\n",
      "jam 5, null value: 33/61\n",
      "jam 6, null value: 11/61\n",
      "jam 7, null value: 8/61\n",
      "jam 8, null value: 2/61\n",
      "jam 9, null value: 1/61\n",
      "jam 10, null value: 1/61\n",
      "jam 11, null value: 1/61\n",
      "jam 12, null value: 2/61\n",
      "jam 13, null value: 1/61\n",
      "jam 14, null value: 1/61\n",
      "jam 15, null value: 1/61\n",
      "jam 16, null value: 1/61\n",
      "jam 17, null value: 1/61\n",
      "jam 18, null value: 1/61\n",
      "jam 19, null value: 1/61\n",
      "jam 20, null value: 1/61\n",
      "jam 21, null value: 1/61\n",
      "jam 22, null value: 2/61\n",
      "jam 23, null value: 23/61\n",
      "total:  359\n"
     ]
    }
   ],
   "source": [
    "df_sample_jams = pd.read_csv(r'Clean\\sample_jams_2.csv')\n",
    "df_sample_jams['time'] = pd.to_datetime(df_sample_jams['time'])\n",
    "df_sample_jams = df_sample_jams.set_index('time')\n",
    "total = 0\n",
    "for i in range(0, 24):\n",
    "  total_row = len(df_sample_jams[df_sample_jams.index.hour == i])\n",
    "  null_value = df_sample_jams[df_sample_jams.index.hour == i].isna().sum()[1]\n",
    "  total += null_value\n",
    "  print(f\"jam {i}, null value: {null_value}/{total_row}\")\n",
    "print('total: ', total)"
   ]
  },
  {
   "cell_type": "code",
   "execution_count": 35,
   "metadata": {},
   "outputs": [
    {
     "name": "stdout",
     "output_type": "stream",
     "text": [
      "427 data cleaned\n"
     ]
    }
   ],
   "source": [
    "def clean_df(df_jams_agg):\n",
    "  list_index = []\n",
    "  for i in [0, 1, 2, 3, 4, 5, 23]:\n",
    "    list_index.extend(df_jams_agg[df_jams_agg.index.hour == i].index)\n",
    "  print(str(len(list_index))+' data cleaned')\n",
    "  df_jams_agg_clean = df_jams_agg.drop(list_index)\n",
    "  for i in [6,7,8,20,21,22]:\n",
    "    df_null = df_jams_agg_clean[df_jams_agg_clean.index.hour == i]\n",
    "    replaced_index = df_null[df_null.median_length.isnull()].index\n",
    "    median_values = []\n",
    "    for col in df_null.columns:\n",
    "      if col == 'median_level':\n",
    "        median_values.append(round(df_null[col].mean(), 0))\n",
    "        continue\n",
    "      median_values.append(df_null[col].median())\n",
    "    for idx in replaced_index:\n",
    "      for col_idx, col_name in enumerate(df_null.columns):\n",
    "        df_jams_agg_clean.loc[idx, col_name] = median_values[col_idx]\n",
    "  df_jams_agg_clean['median_level'] = df_jams_agg_clean['median_level'].fillna(0).astype(int)\n",
    "  return df_jams_agg_clean\n",
    "\n",
    "df_jams_agg_clean = clean_df(df_sample_jams)\n",
    "df_jams_agg_clean\n",
    "df_jams_agg_clean.to_csv(r'Clean\\sample_jams_cleaned_2.csv')"
   ]
  },
  {
   "attachments": {},
   "cell_type": "markdown",
   "metadata": {},
   "source": [
    "# Analisis Tambahan"
   ]
  },
  {
   "cell_type": "code",
   "execution_count": 112,
   "metadata": {},
   "outputs": [
    {
     "name": "stdout",
     "output_type": "stream",
     "text": [
      "<class 'pandas.core.frame.DataFrame'>\n",
      "RangeIndex: 157218 entries, 0 to 157217\n",
      "Data columns (total 13 columns):\n",
      " #   Column                     Non-Null Count   Dtype  \n",
      "---  ------                     --------------   -----  \n",
      " 0   time                       157218 non-null  object \n",
      " 1   kemendagri_kabupaten_kode  157218 non-null  float64\n",
      " 2   kemendagri_kabupaten_nama  157218 non-null  object \n",
      " 3   street                     154459 non-null  object \n",
      " 4   level                      157218 non-null  int64  \n",
      " 5   median_length              157218 non-null  float64\n",
      " 6   median_delay               157218 non-null  float64\n",
      " 7   median_speed_kmh           157218 non-null  float64\n",
      " 8   total_records              157218 non-null  int64  \n",
      " 9   id                         157218 non-null  int64  \n",
      " 10  date                       157218 non-null  object \n",
      " 11  median_level               157218 non-null  float64\n",
      " 12  geometry                   157218 non-null  object \n",
      "dtypes: float64(5), int64(3), object(5)\n",
      "memory usage: 15.6+ MB\n"
     ]
    }
   ],
   "source": [
    "df_jams.info()"
   ]
  },
  {
   "cell_type": "code",
   "execution_count": 108,
   "metadata": {},
   "outputs": [
    {
     "name": "stdout",
     "output_type": "stream",
     "text": [
      "<class 'pandas.core.frame.DataFrame'>\n",
      "RangeIndex: 18040 entries, 0 to 18039\n",
      "Data columns (total 9 columns):\n",
      " #   Column                     Non-Null Count  Dtype  \n",
      "---  ------                     --------------  -----  \n",
      " 0   id                         18040 non-null  int64  \n",
      " 1   time                       18040 non-null  object \n",
      " 2   kemendagri_kabupaten_kode  18040 non-null  float64\n",
      " 3   kemendagri_kabupaten_nama  18040 non-null  object \n",
      " 4   street                     16746 non-null  object \n",
      " 5   type                       18040 non-null  object \n",
      " 6   avg_location               18040 non-null  object \n",
      " 7   total_records              18040 non-null  int64  \n",
      " 8   date                       18040 non-null  object \n",
      "dtypes: float64(1), int64(2), object(6)\n",
      "memory usage: 1.2+ MB\n"
     ]
    }
   ],
   "source": [
    "df_alerts.info()"
   ]
  },
  {
   "cell_type": "code",
   "execution_count": 107,
   "metadata": {},
   "outputs": [
    {
     "name": "stdout",
     "output_type": "stream",
     "text": [
      "<class 'pandas.core.frame.DataFrame'>\n",
      "RangeIndex: 8313 entries, 0 to 8312\n",
      "Data columns (total 16 columns):\n",
      " #   Column                     Non-Null Count  Dtype  \n",
      "---  ------                     --------------  -----  \n",
      " 0   time                       8313 non-null   object \n",
      " 1   kemendagri_kabupaten_kode  8313 non-null   float64\n",
      " 2   kemendagri_kabupaten_nama  8313 non-null   object \n",
      " 3   street                     8269 non-null   object \n",
      " 4   jam_level                  8313 non-null   int64  \n",
      " 5   median_length              8313 non-null   float64\n",
      " 6   median_delay_seconds       8313 non-null   float64\n",
      " 7   median_regular_speed       8313 non-null   float64\n",
      " 8   total_records              8313 non-null   int64  \n",
      " 9   cause_type                 0 non-null      float64\n",
      " 10  median_seconds             8313 non-null   float64\n",
      " 11  median_speed               8313 non-null   float64\n",
      " 12  date                       8313 non-null   object \n",
      " 13  median_jam_level           8313 non-null   float64\n",
      " 14  id                         8313 non-null   int64  \n",
      " 15  geometry                   8313 non-null   object \n",
      "dtypes: float64(8), int64(3), object(5)\n",
      "memory usage: 1.0+ MB\n"
     ]
    }
   ],
   "source": [
    "df_irregularities.info()"
   ]
  }
 ],
 "metadata": {
  "kernelspec": {
   "display_name": "Python 3",
   "language": "python",
   "name": "python3"
  },
  "language_info": {
   "codemirror_mode": {
    "name": "ipython",
    "version": 3
   },
   "file_extension": ".py",
   "mimetype": "text/x-python",
   "name": "python",
   "nbconvert_exporter": "python",
   "pygments_lexer": "ipython3",
   "version": "3.8.5"
  },
  "orig_nbformat": 4,
  "vscode": {
   "interpreter": {
    "hash": "63a7da8992f15241d76b18aea324e142f9402b9d6f7018395fff4dadbeac4d88"
   }
  }
 },
 "nbformat": 4,
 "nbformat_minor": 2
}
