{
 "cells": [
  {
   "cell_type": "code",
   "execution_count": 1,
   "metadata": {},
   "outputs": [],
   "source": [
    "import numpy as np\n",
    "import pandas as pd\n",
    "from matplotlib import pyplot as plt\n",
    "pd.options.plotting.backend = \"plotly\""
   ]
  },
  {
   "cell_type": "code",
   "execution_count": 2,
   "metadata": {},
   "outputs": [],
   "source": [
    "def null_per_hours(i):\n",
    "  df_sample_jams = pd.read_csv(r'Clean\\sample_jams_{}.csv'.format(i))\n",
    "  print(df_sample_jams.isnull().sum())\n",
    "  # mengetahui jumlah NaN di setiap jam\n",
    "  df_sample_jams['time'] = pd.to_datetime(df_sample_jams['time'])\n",
    "  df_sample_jams = df_sample_jams.set_index('time')\n",
    "  total = 0\n",
    "  for i in range(0, 24):\n",
    "    total_row = len(df_sample_jams[df_sample_jams.index.hour == i])\n",
    "    null_value = df_sample_jams[df_sample_jams.index.hour == i].isna().sum()[1]\n",
    "    total += null_value\n",
    "    print(f\"jam {i}, null value: {null_value}/{total_row}\")\n",
    "  print('total: ', total)"
   ]
  },
  {
   "attachments": {},
   "cell_type": "markdown",
   "metadata": {},
   "source": [
    "## NaN per jam"
   ]
  },
  {
   "attachments": {},
   "cell_type": "markdown",
   "metadata": {},
   "source": [
    "### Jalan 0 : N8 Jalan Raya Bogor"
   ]
  },
  {
   "cell_type": "code",
   "execution_count": 3,
   "metadata": {},
   "outputs": [
    {
     "name": "stdout",
     "output_type": "stream",
     "text": [
      "time                  0\n",
      "median_length       308\n",
      "median_delay        308\n",
      "median_speed_kmh    308\n",
      "median_level        308\n",
      "dtype: int64\n",
      "jam 0, null value: 41/61\n",
      "jam 1, null value: 51/61\n",
      "jam 2, null value: 50/61\n",
      "jam 3, null value: 54/61\n",
      "jam 4, null value: 50/61\n",
      "jam 5, null value: 15/61\n",
      "jam 6, null value: 8/61\n",
      "jam 7, null value: 2/61\n",
      "jam 8, null value: 2/61\n",
      "jam 9, null value: 1/61\n",
      "jam 10, null value: 1/61\n",
      "jam 11, null value: 1/61\n",
      "jam 12, null value: 1/61\n",
      "jam 13, null value: 1/61\n",
      "jam 14, null value: 3/61\n",
      "jam 15, null value: 1/61\n",
      "jam 16, null value: 1/61\n",
      "jam 17, null value: 1/61\n",
      "jam 18, null value: 1/61\n",
      "jam 19, null value: 1/61\n",
      "jam 20, null value: 1/61\n",
      "jam 21, null value: 1/61\n",
      "jam 22, null value: 2/61\n",
      "jam 23, null value: 18/60\n",
      "total:  308\n"
     ]
    }
   ],
   "source": [
    "null_per_hours(0)"
   ]
  },
  {
   "attachments": {},
   "cell_type": "markdown",
   "metadata": {},
   "source": [
    "### Jalan 1 : Margonda Raya"
   ]
  },
  {
   "cell_type": "code",
   "execution_count": 4,
   "metadata": {},
   "outputs": [
    {
     "name": "stdout",
     "output_type": "stream",
     "text": [
      "time                  0\n",
      "median_length       287\n",
      "median_delay        287\n",
      "median_speed_kmh    287\n",
      "median_level        287\n",
      "dtype: int64\n",
      "jam 0, null value: 30/63\n",
      "jam 1, null value: 40/62\n",
      "jam 2, null value: 49/62\n",
      "jam 3, null value: 44/62\n",
      "jam 4, null value: 43/62\n",
      "jam 5, null value: 15/62\n",
      "jam 6, null value: 11/62\n",
      "jam 7, null value: 6/62\n",
      "jam 8, null value: 6/62\n",
      "jam 9, null value: 2/62\n",
      "jam 10, null value: 2/62\n",
      "jam 11, null value: 2/62\n",
      "jam 12, null value: 2/62\n",
      "jam 13, null value: 2/62\n",
      "jam 14, null value: 2/62\n",
      "jam 15, null value: 2/62\n",
      "jam 16, null value: 2/62\n",
      "jam 17, null value: 2/62\n",
      "jam 18, null value: 2/62\n",
      "jam 19, null value: 2/62\n",
      "jam 20, null value: 2/62\n",
      "jam 21, null value: 2/62\n",
      "jam 22, null value: 6/62\n",
      "jam 23, null value: 11/62\n",
      "total:  287\n"
     ]
    }
   ],
   "source": [
    "null_per_hours(1)"
   ]
  },
  {
   "attachments": {},
   "cell_type": "markdown",
   "metadata": {},
   "source": [
    "### Jalan 2 : Sawangan Raya"
   ]
  },
  {
   "cell_type": "code",
   "execution_count": 5,
   "metadata": {},
   "outputs": [
    {
     "name": "stdout",
     "output_type": "stream",
     "text": [
      "time                  0\n",
      "median_length       359\n",
      "median_delay        359\n",
      "median_speed_kmh    359\n",
      "median_level        359\n",
      "dtype: int64\n",
      "jam 0, null value: 45/61\n",
      "jam 1, null value: 51/61\n",
      "jam 2, null value: 58/61\n",
      "jam 3, null value: 55/61\n",
      "jam 4, null value: 57/61\n",
      "jam 5, null value: 33/61\n",
      "jam 6, null value: 11/61\n",
      "jam 7, null value: 8/61\n",
      "jam 8, null value: 2/61\n",
      "jam 9, null value: 1/61\n",
      "jam 10, null value: 1/61\n",
      "jam 11, null value: 1/61\n",
      "jam 12, null value: 2/61\n",
      "jam 13, null value: 1/61\n",
      "jam 14, null value: 1/61\n",
      "jam 15, null value: 1/61\n",
      "jam 16, null value: 1/61\n",
      "jam 17, null value: 1/61\n",
      "jam 18, null value: 1/61\n",
      "jam 19, null value: 1/61\n",
      "jam 20, null value: 1/61\n",
      "jam 21, null value: 1/61\n",
      "jam 22, null value: 2/61\n",
      "jam 23, null value: 23/61\n",
      "total:  359\n"
     ]
    }
   ],
   "source": [
    "null_per_hours(2)"
   ]
  },
  {
   "attachments": {},
   "cell_type": "markdown",
   "metadata": {},
   "source": [
    "## Replace null"
   ]
  },
  {
   "cell_type": "code",
   "execution_count": 6,
   "metadata": {},
   "outputs": [
    {
     "name": "stdout",
     "output_type": "stream",
     "text": [
      "60 data cleaned - N8 Jalan Raya Bogor\n",
      "62 data cleaned - Margonda Raya\n",
      "61 data cleaned - Sawangan Raya\n"
     ]
    }
   ],
   "source": [
    "for i, street in enumerate(['N8 Jalan Raya Bogor', 'Margonda Raya', 'Sawangan Raya']):\n",
    "  df_jams_agg = pd.read_csv(r'Clean\\sample_jams_{}.csv'.format(i))\n",
    "  df_jams_agg['time'] = pd.to_datetime(df_jams_agg['time'])\n",
    "  df_jams_agg = df_jams_agg.set_index('time')\n",
    "  for dh in [0, 1, 2, 3, 4, 5, 23]:\n",
    "    list_index = df_jams_agg[df_jams_agg.index.hour == dh].index\n",
    "    df_null = df_jams_agg[df_jams_agg.index.hour == dh]\n",
    "    for li in list_index:\n",
    "      df_jams_agg.loc[li, ['median_length', 'median_delay', 'median_speed_kmh', 'median_level']] = [\n",
    "        df_null['median_length'].mean(),\n",
    "        df_null['median_delay'].mean(),\n",
    "        df_null['median_speed_kmh'].mean(),\n",
    "        int(df_null['median_level'].mean())]\n",
    "  print(str(len(list_index))+' data cleaned - '+ street)\n",
    "  # df_jams_agg_clean = df_jams_agg.drop(list_index)\n",
    "  df_jams_agg_clean = df_jams_agg\n",
    "  # median_length median_delay median_speed_kmh median_level\n",
    "  for fh in [6,7,8,20,21,22]:\n",
    "    df_null = df_jams_agg_clean[df_jams_agg_clean.index.hour == fh]\n",
    "    replaced_index = df_null[df_null.median_length.isnull()].index\n",
    "    median_values = []\n",
    "    for col in df_null.columns:\n",
    "      if col in ['median_level', 'median_delay']:\n",
    "        median_values.append(round(df_null[col].mean(), 2))\n",
    "        continue\n",
    "      median_values.append(df_null[col].median())\n",
    "    for idx in replaced_index:\n",
    "      for col_idx, col_name in enumerate(df_null.columns):\n",
    "        df_jams_agg_clean.loc[idx, col_name] = median_values[col_idx]\n",
    "  df_jams_agg_clean.to_csv(r'Clean\\sample_jams_clean_{}.csv'.format(i))\n",
    "  "
   ]
  }
 ],
 "metadata": {
  "kernelspec": {
   "display_name": "Python 3",
   "language": "python",
   "name": "python3"
  },
  "language_info": {
   "codemirror_mode": {
    "name": "ipython",
    "version": 3
   },
   "file_extension": ".py",
   "mimetype": "text/x-python",
   "name": "python",
   "nbconvert_exporter": "python",
   "pygments_lexer": "ipython3",
   "version": "3.8.5"
  },
  "orig_nbformat": 4,
  "vscode": {
   "interpreter": {
    "hash": "63a7da8992f15241d76b18aea324e142f9402b9d6f7018395fff4dadbeac4d88"
   }
  }
 },
 "nbformat": 4,
 "nbformat_minor": 2
}
